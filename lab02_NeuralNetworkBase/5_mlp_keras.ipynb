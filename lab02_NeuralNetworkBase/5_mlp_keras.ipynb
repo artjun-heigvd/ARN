{
  "cells": [
    {
      "cell_type": "markdown",
      "metadata": {
        "id": "743StHfk0p5U"
      },
      "source": [
        "# MLP with Keras"
      ]
    },
    {
      "cell_type": "markdown",
      "metadata": {
        "id": "g1sN9yUm0p5Z"
      },
      "source": [
        "## Loading the packages"
      ]
    },
    {
      "cell_type": "code",
      "execution_count": null,
      "metadata": {
        "id": "uSRqDbSs0p5a"
      },
      "outputs": [],
      "source": [
        "import numpy as np\n",
        "import matplotlib.pyplot as pl"
      ]
    },
    {
      "cell_type": "markdown",
      "metadata": {
        "id": "Rw93JkoU0p5b"
      },
      "source": [
        "## The Dataset\n",
        "The following script allows you to create a 2D dataset by using the mouse. The left click adds points belonging to class A (blue), and the right click adds points belonging to class B (red). You can create as many points as you desire. The final dataset will contain hence three values per point: x coordinate (-1 ≤ x ≤ 1), y coordinate (-1 ≤ y ≤ 1) and the class ∈ {1,-1}."
      ]
    },
    {
      "cell_type": "code",
      "execution_count": 1,
      "metadata": {
        "id": "dQ38Xnw31Ul5"
      },
      "outputs": [
        {
          "name": "stdout",
          "output_type": "stream",
          "text": [
            "Defaulting to user installation because normal site-packages is not writeable\n",
            "Requirement already satisfied: ipympl in /home/ajun/.local/lib/python3.11/site-packages (0.9.3)\n",
            "Requirement already satisfied: ipython<9 in /home/ajun/.local/lib/python3.11/site-packages (from ipympl) (8.22.0)\n",
            "Requirement already satisfied: numpy in /usr/local/lib64/python3.11/site-packages (from ipympl) (1.26.0)\n",
            "Requirement already satisfied: ipython-genutils in /home/ajun/.local/lib/python3.11/site-packages (from ipympl) (0.2.0)\n",
            "Requirement already satisfied: pillow in /usr/lib64/python3.11/site-packages (from ipympl) (9.5.0)\n",
            "Requirement already satisfied: traitlets<6 in /home/ajun/.local/lib/python3.11/site-packages (from ipympl) (5.14.1)\n",
            "Requirement already satisfied: ipywidgets<9,>=7.6.0 in /home/ajun/.local/lib/python3.11/site-packages (from ipympl) (8.1.2)\n",
            "Requirement already satisfied: matplotlib<4,>=3.4.0 in /usr/local/lib64/python3.11/site-packages (from ipympl) (3.8.0)\n",
            "Requirement already satisfied: decorator in /usr/lib/python3.11/site-packages (from ipython<9->ipympl) (5.1.1)\n",
            "Requirement already satisfied: jedi>=0.16 in /home/ajun/.local/lib/python3.11/site-packages (from ipython<9->ipympl) (0.19.1)\n",
            "Requirement already satisfied: matplotlib-inline in /home/ajun/.local/lib/python3.11/site-packages (from ipython<9->ipympl) (0.1.6)\n",
            "Requirement already satisfied: prompt-toolkit<3.1.0,>=3.0.41 in /home/ajun/.local/lib/python3.11/site-packages (from ipython<9->ipympl) (3.0.43)\n",
            "Requirement already satisfied: pygments>=2.4.0 in /home/ajun/.local/lib/python3.11/site-packages (from ipython<9->ipympl) (2.17.2)\n",
            "Requirement already satisfied: stack-data in /home/ajun/.local/lib/python3.11/site-packages (from ipython<9->ipympl) (0.6.3)\n",
            "Requirement already satisfied: pexpect>4.3 in /usr/lib/python3.11/site-packages (from ipython<9->ipympl) (4.8.0)\n",
            "Requirement already satisfied: comm>=0.1.3 in /home/ajun/.local/lib/python3.11/site-packages (from ipywidgets<9,>=7.6.0->ipympl) (0.2.1)\n",
            "Requirement already satisfied: widgetsnbextension~=4.0.10 in /home/ajun/.local/lib/python3.11/site-packages (from ipywidgets<9,>=7.6.0->ipympl) (4.0.10)\n",
            "Requirement already satisfied: jupyterlab-widgets~=3.0.10 in /home/ajun/.local/lib/python3.11/site-packages (from ipywidgets<9,>=7.6.0->ipympl) (3.0.10)\n",
            "Requirement already satisfied: contourpy>=1.0.1 in /usr/local/lib64/python3.11/site-packages (from matplotlib<4,>=3.4.0->ipympl) (1.1.1)\n",
            "Requirement already satisfied: cycler>=0.10 in /usr/local/lib/python3.11/site-packages (from matplotlib<4,>=3.4.0->ipympl) (0.11.0)\n",
            "Requirement already satisfied: fonttools>=4.22.0 in /usr/local/lib64/python3.11/site-packages (from matplotlib<4,>=3.4.0->ipympl) (4.42.1)\n",
            "Requirement already satisfied: kiwisolver>=1.0.1 in /usr/local/lib64/python3.11/site-packages (from matplotlib<4,>=3.4.0->ipympl) (1.4.5)\n",
            "Requirement already satisfied: packaging>=20.0 in /usr/lib/python3.11/site-packages (from matplotlib<4,>=3.4.0->ipympl) (23.0)\n",
            "Requirement already satisfied: pyparsing>=2.3.1 in /usr/lib/python3.11/site-packages (from matplotlib<4,>=3.4.0->ipympl) (3.0.9)\n",
            "Requirement already satisfied: python-dateutil>=2.7 in /usr/lib/python3.11/site-packages (from matplotlib<4,>=3.4.0->ipympl) (2.8.2)\n",
            "Requirement already satisfied: parso<0.9.0,>=0.8.3 in /home/ajun/.local/lib/python3.11/site-packages (from jedi>=0.16->ipython<9->ipympl) (0.8.3)\n",
            "Requirement already satisfied: ptyprocess>=0.5 in /usr/lib/python3.11/site-packages (from pexpect>4.3->ipython<9->ipympl) (0.7.0)\n",
            "Requirement already satisfied: wcwidth in /home/ajun/.local/lib/python3.11/site-packages (from prompt-toolkit<3.1.0,>=3.0.41->ipython<9->ipympl) (0.2.13)\n",
            "Requirement already satisfied: six>=1.5 in /usr/lib/python3.11/site-packages (from python-dateutil>=2.7->matplotlib<4,>=3.4.0->ipympl) (1.16.0)\n",
            "Requirement already satisfied: executing>=1.2.0 in /home/ajun/.local/lib/python3.11/site-packages (from stack-data->ipython<9->ipympl) (2.0.1)\n",
            "Requirement already satisfied: asttokens>=2.1.0 in /home/ajun/.local/lib/python3.11/site-packages (from stack-data->ipython<9->ipympl) (2.4.1)\n",
            "Requirement already satisfied: pure-eval in /home/ajun/.local/lib/python3.11/site-packages (from stack-data->ipython<9->ipympl) (0.2.2)\n"
          ]
        }
      ],
      "source": [
        "!pip install ipympl"
      ]
    },
    {
      "cell_type": "markdown",
      "metadata": {
        "id": "0dLF3PQJ1Xe3"
      },
      "source": [
        "<font color=\"red\">**For it to work on Colab, you will need to reload your session (Exécution -> redémarrer la session)**</font>"
      ]
    },
    {
      "cell_type": "markdown",
      "metadata": {
        "id": "iqN-yHWXeOYh"
      },
      "source": [
        "<font color=\"orange\">**Make sure to put a large amount of points otherwise the cross validation folds will be really small**</font>"
      ]
    },
    {
      "cell_type": "code",
      "execution_count": null,
      "metadata": {
        "id": "hNqyyMNu0p5c"
      },
      "outputs": [],
      "source": [
        "%matplotlib widget\n",
        "\n",
        "from google.colab import output\n",
        "output.enable_custom_widget_manager()\n",
        "\n",
        "fig = pl.figure(figsize=(6,6))\n",
        "pl.title(\"Input Dataset\")\n",
        "pl.xlim((-1.2,1.2))\n",
        "pl.ylim((-1.2,1.2))\n",
        "\n",
        "dataset = []\n",
        "\n",
        "def on_press(event):\n",
        "    if event.key == 'b':\n",
        "        dataset.append((event.xdata, event.ydata, -1))\n",
        "        pl.scatter(event.xdata, event.ydata, color='blue')\n",
        "        pl.draw()\n",
        "    elif event.key == 'r':\n",
        "        dataset.append((event.xdata, event.ydata, 1))\n",
        "        pl.scatter(event.xdata, event.ydata, color='red')\n",
        "        pl.draw()\n",
        "\n",
        "# Attach the event handler\n",
        "fig.canvas.mpl_connect('key_press_event', on_press);"
      ]
    },
    {
      "cell_type": "markdown",
      "metadata": {
        "id": "zfHYuJfg0p5f"
      },
      "source": [
        "## Show the dataset"
      ]
    },
    {
      "cell_type": "code",
      "execution_count": null,
      "metadata": {
        "id": "-monKKtG0p5g"
      },
      "outputs": [],
      "source": [
        "dataset = np.array(dataset)\n",
        "dataset"
      ]
    },
    {
      "cell_type": "code",
      "execution_count": null,
      "metadata": {
        "id": "KhlctWvc3gmR"
      },
      "outputs": [],
      "source": [
        "input_data = dataset[:,0:2]\n",
        "output_data = dataset[:,2]"
      ]
    },
    {
      "cell_type": "code",
      "execution_count": null,
      "metadata": {
        "id": "wBHv2D218Jzk"
      },
      "outputs": [],
      "source": [
        "input_data"
      ]
    },
    {
      "cell_type": "code",
      "execution_count": null,
      "metadata": {
        "id": "65HOoUrd8Llo"
      },
      "outputs": [],
      "source": [
        "output_data"
      ]
    },
    {
      "cell_type": "code",
      "execution_count": null,
      "metadata": {
        "id": "exJGtXZWFSmR"
      },
      "outputs": [],
      "source": [
        "%matplotlib inline"
      ]
    },
    {
      "cell_type": "code",
      "execution_count": null,
      "metadata": {
        "id": "My_LfipU9AwN"
      },
      "outputs": [],
      "source": [
        "import keras\n",
        "from keras import layers\n",
        "from sklearn.model_selection import KFold\n",
        "\n",
        "pl.clf()\n",
        "\n",
        "keras.utils.set_random_seed(123)\n",
        "kf = KFold(n_splits=3, shuffle=True)\n",
        "\n",
        "for i, (train_index, test_index) in enumerate(kf.split(input_data)):\n",
        "  pl.figure(figsize=(4,4))\n",
        "\n",
        "  # Plot train data\n",
        "  pl.scatter(input_data[train_index][:,0], input_data[train_index][:,1], c=[(['b', 'r'])[int(d>0)] for d in output_data[train_index]], s=100)\n",
        "  pl.scatter(input_data[test_index][:,0], input_data[test_index][:,1], c=[(['gray', 'gray'])[int(d>0)] for d in output_data[test_index]], s=100)\n",
        "  pl.title(f'Split {i + 1}, validation fold in gray.')\n",
        "  pl.show()"
      ]
    },
    {
      "cell_type": "code",
      "execution_count": null,
      "metadata": {
        "id": "W0YERr0e1uG8"
      },
      "outputs": [],
      "source": [
        "def create_model():\n",
        "  # 2 inputs\n",
        "  # 2 hidden nodes\n",
        "  # 1 output\n",
        "\n",
        "  mlp = keras.Sequential([\n",
        "      layers.Input(2),\n",
        "      layers.Dense(2, activation=\"tanh\"), # Try different numbers of hidden neurons here (e.g. 2, 4, 8, 32, 128)\n",
        "      layers.Dense(1, activation=\"tanh\"),\n",
        "  ])\n",
        "\n",
        "  # Experiment with hyperparameters here:\n",
        "  # momentum: [0, 0.8, 0.9, 0.99]\n",
        "  # learning_rate: [0.1, 0.01, 0.001, 0.0001]\n",
        "  mlp.compile(\n",
        "      optimizer=keras.optimizers.SGD(learning_rate=0.01, momentum=0.99),\n",
        "      loss=\"mse\",\n",
        "  )\n",
        "\n",
        "  return mlp\n",
        "\n",
        "mlp = create_model()\n",
        "mlp.summary()"
      ]
    },
    {
      "cell_type": "code",
      "execution_count": null,
      "metadata": {
        "id": "Z3eEWO6QCbkS"
      },
      "outputs": [],
      "source": [
        "history_list = []\n",
        "trained_mlp = []\n",
        "\n",
        "for i, (train_index, test_index) in enumerate(kf.split(input_data)):\n",
        "  # We need to create a new model everytime otherwise fit will continue previous training\n",
        "  mlp = create_model()\n",
        "\n",
        "  history = mlp.fit(\n",
        "      x=input_data[train_index], y=output_data[train_index],\n",
        "      validation_data=(input_data[test_index], output_data[test_index]),\n",
        "      epochs=400\n",
        "  )\n",
        "\n",
        "  history_list.append(history)\n",
        "  trained_mlp.append(mlp)"
      ]
    },
    {
      "cell_type": "markdown",
      "metadata": {
        "id": "A-SHnwnxinXc"
      },
      "source": [
        "# Plot training history"
      ]
    },
    {
      "cell_type": "code",
      "execution_count": null,
      "metadata": {
        "id": "g41Dx_0phgHH"
      },
      "outputs": [],
      "source": [
        "train_losses = np.array([history.history['loss'] for history in history_list])\n",
        "val_losses = np.array([history.history['val_loss'] for history in history_list])\n",
        "\n",
        "# Calculate mean and standard deviation for training and validation losses\n",
        "mean_train_loss = np.mean(train_losses, axis=0)\n",
        "std_train_loss = np.std(train_losses, axis=0)\n",
        "mean_val_loss = np.mean(val_losses, axis=0)\n",
        "std_val_loss = np.std(val_losses, axis=0)\n",
        "\n",
        "# Plot mean and standard deviation for training loss\n",
        "pl.plot(mean_train_loss, label='Training Loss (Mean)')\n",
        "pl.fill_between(range(len(mean_train_loss)), mean_train_loss - std_train_loss, mean_train_loss + std_train_loss, alpha=0.3, label='Training Loss (Std)')\n",
        "\n",
        "# Plot mean and standard deviation for validation loss\n",
        "pl.plot(mean_val_loss, label='Validation Loss (Mean)')\n",
        "pl.fill_between(range(len(mean_val_loss)), mean_val_loss - std_val_loss, mean_val_loss + std_val_loss, alpha=0.3, label='Validation Loss (Std)')\n",
        "\n",
        "# Add labels and legend\n",
        "pl.xlabel('Epochs')\n",
        "pl.ylabel('Loss')\n",
        "pl.legend()\n",
        "\n",
        "# Display the plot\n",
        "pl.show()"
      ]
    },
    {
      "cell_type": "markdown",
      "metadata": {
        "id": "v1t-M-cXiqzo"
      },
      "source": [
        "# Plot models feature space outputs"
      ]
    },
    {
      "cell_type": "code",
      "execution_count": null,
      "metadata": {
        "id": "tTBX8TCPD4yT"
      },
      "outputs": [],
      "source": [
        "for idx, model in enumerate(trained_mlp):\n",
        "    # Plot model's output in the feature space\n",
        "    input_x = np.arange(-1.2, 1.2, 0.1)\n",
        "    input_y = np.arange(-1.2, 1.2, 0.1)\n",
        "    input_x_matrix, input_y_matrix = np.meshgrid(input_x, input_y)\n",
        "    inputs_xy = np.concatenate((input_x_matrix.flatten()[:,np.newaxis], input_y_matrix.flatten()[:,np.newaxis]), axis=1)\n",
        "\n",
        "    output_values = model(inputs_xy)\n",
        "    output_matrix = np.reshape(output_values, input_x_matrix.shape)\n",
        "\n",
        "    pl.figure(figsize=(8,8))\n",
        "    img = pl.imshow(np.flipud(output_matrix), interpolation='None', extent=(-1.2,1.2,-1.2,1.2), cmap=\"turbo\")\n",
        "    pl.colorbar(img, shrink=0.7)\n",
        "    pl.scatter(input_data[:,0], input_data[:,1], c=[(['b', 'r'])[int(d>0)] for d in output_data], s=100, edgecolors='black')\n",
        "    pl.title(f'MLP {idx+1} feature space output')\n",
        "    pl.show()"
      ]
    },
    {
      "cell_type": "markdown",
      "metadata": {
        "id": "Zncqxqr8jRd8"
      },
      "source": [
        "# Performances"
      ]
    },
    {
      "cell_type": "code",
      "execution_count": null,
      "metadata": {
        "id": "Ap5lxrKLjTpI"
      },
      "outputs": [],
      "source": [
        "import numpy as np\n",
        "from sklearn.metrics import confusion_matrix, f1_score\n",
        "import seaborn as sns\n",
        "\n",
        "def plot_confusion_matrix(confusion_matrix, title):\n",
        "    # Plot confusion matrix\n",
        "    pl.figure(figsize=(8, 6))\n",
        "    sns.heatmap(confusion_matrix.astype(int), annot=True, fmt=\"d\", cmap=\"Blues\", cbar=False,\n",
        "                xticklabels=[\"Blue\", \"Red\"], yticklabels=[\"Blue\", \"Red\"])\n",
        "    pl.title(title)\n",
        "    pl.xlabel('Predicted')\n",
        "    pl.ylabel('True')\n",
        "    pl.show()\n",
        "\n",
        "f1_scores = []\n",
        "mean_confusion_matrix = np.zeros((2, 2))\n",
        "\n",
        "for i, (train_index, test_index) in enumerate(kf.split(input_data)):\n",
        "    # Evaluate the trained model on the test fold\n",
        "    predictions = (trained_mlp[i].predict(input_data[test_index]) > 0).astype(int)\n",
        "    true_labels = (output_data[test_index] > 0).astype(int)\n",
        "\n",
        "    # Compute confusion matrix\n",
        "    cm = confusion_matrix(true_labels, predictions)\n",
        "    mean_confusion_matrix += confusion_matrix(true_labels, predictions)\n",
        "\n",
        "    # Compute confusion matrix and plot\n",
        "    plot_confusion_matrix(cm, f'Confusion Matrix - Fold {i + 1}')\n",
        "\n",
        "    # Compute F1 score\n",
        "    f1 = f1_score(true_labels, predictions)\n",
        "    f1_scores.append(f1)\n",
        "    print(f\"F1 Score - Fold {i + 1}: {f1}\")\n",
        "\n",
        "# Plot mean confusion matrix\n",
        "plot_confusion_matrix(mean_confusion_matrix, 'Global confusion matrix')\n",
        "\n",
        "# Calculate and display the mean F1 score across all folds\n",
        "mean_f1_score = np.mean(f1_scores)\n",
        "print(f\"Mean F1 Score across all folds: {mean_f1_score}\")"
      ]
    },
    {
      "cell_type": "markdown",
      "metadata": {
        "id": "hAjius2Q7osY"
      },
      "source": [
        "# Exercise\n",
        "\n",
        "Please try changing hyperparameters (number of neurons, number of layers, learning rate, momentum, number of epochs...) and observe the impact it has on training and validation loss, convergence, and computation time. For instance, observe if there's overfitting if you put a high number (i.e. 128) of neurons in the hidden layer.\n",
        "\n",
        "You can also experiment with different datasets (clear separation between classes, unbalanced...)\n"
      ]
    }
  ],
  "metadata": {
    "colab": {
      "provenance": []
    },
    "kernelspec": {
      "display_name": "Python 3 (ipykernel)",
      "language": "python",
      "name": "python3"
    },
    "language_info": {
      "codemirror_mode": {
        "name": "ipython",
        "version": 3
      },
      "file_extension": ".py",
      "mimetype": "text/x-python",
      "name": "python",
      "nbconvert_exporter": "python",
      "pygments_lexer": "ipython3",
      "version": "3.11.8"
    }
  },
  "nbformat": 4,
  "nbformat_minor": 0
}
