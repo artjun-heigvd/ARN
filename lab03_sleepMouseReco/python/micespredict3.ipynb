{
 "cells": [
  {
   "cell_type": "markdown",
   "id": "63e198db610745b8",
   "metadata": {
    "collapsed": false,
    "id": "63e198db610745b8",
    "jupyter": {
     "outputs_hidden": false
    }
   },
   "source": [
    "# Start of the lab 03\n",
    "#### By Haeffner Edwin and Junod Arthur\n",
    "\n",
    "## Concatenation of the two dataframes"
   ]
  },
  {
   "cell_type": "code",
   "execution_count": 1,
   "id": "initial_id",
   "metadata": {
    "ExecuteTime": {
     "end_time": "2024-04-21T16:08:14.520211Z",
     "start_time": "2024-04-21T16:08:13.264545Z"
    },
    "id": "initial_id"
   },
   "outputs": [],
   "source": [
    "import pandas as pd\n",
    "import numpy as np\n",
    "import matplotlib.pyplot as pl\n",
    "\n",
    "mice_eeg1 = pd.read_csv('./data/EEG_mouse_data_1.csv')\n",
    "mice_eeg2 = pd.read_csv('./data/EEG_mouse_data_2.csv')\n",
    "\n",
    "mice_eeg = pd.concat([mice_eeg1, mice_eeg2], axis=0)\n",
    "mice_eeg = np.array(mice_eeg)\n",
    "\n"
   ]
  },
  {
   "cell_type": "code",
   "execution_count": 2,
   "id": "9b16db3042d172e9",
   "metadata": {
    "ExecuteTime": {
     "end_time": "2024-04-21T16:09:43.517536Z",
     "start_time": "2024-04-21T16:09:43.490698Z"
    }
   },
   "outputs": [
    {
     "name": "stdout",
     "output_type": "stream",
     "text": [
      "The character 'n' appears 13664 times.\n",
      "The character 'r' appears 2839 times.\n",
      "The character 'w' appears 24360 times.\n"
     ]
    }
   ],
   "source": [
    "# Get predicted classes\n",
    "mice_eeg_classes = mice_eeg\n",
    "\n",
    "import numpy as np\n",
    "\n",
    "unique_chars, char_counts = np.unique(mice_eeg_classes[:, 0], return_counts=True)\n",
    "\n",
    "for char, count in zip(unique_chars, char_counts):\n",
    "    print(f\"The character '{char}' appears {count} times.\")"
   ]
  },
  {
   "cell_type": "code",
   "execution_count": null,
   "id": "3b0026db7d471882",
   "metadata": {},
   "outputs": [],
   "source": []
  },
  {
   "cell_type": "markdown",
   "id": "8548b379b521048a",
   "metadata": {
    "id": "8548b379b521048a"
   },
   "source": [
    "## KFold grouping"
   ]
  },
  {
   "cell_type": "code",
   "execution_count": 3,
   "id": "3ec576809326d5e7",
   "metadata": {
    "ExecuteTime": {
     "end_time": "2024-04-21T15:55:02.244136Z",
     "start_time": "2024-04-21T15:55:02.183950Z"
    },
    "colab": {
     "base_uri": "https://localhost:8080/",
     "height": 191
    },
    "id": "3ec576809326d5e7",
    "outputId": "61f31bf7-54b3-4911-b1fe-28cc8c6fca6b"
   },
   "outputs": [
    {
     "name": "stdout",
     "output_type": "stream",
     "text": [
      "Fold 0:\n",
      "  Train: index=[    0     2     3 ... 40860 40861 40862]\n",
      "  Test:  index=[    1     8    15 ... 40854 40856 40857]\n",
      "Fold 1:\n",
      "  Train: index=[    0     1     4 ... 40859 40860 40862]\n",
      "  Test:  index=[    2     3     5 ... 40855 40858 40861]\n",
      "Fold 2:\n",
      "  Train: index=[    1     2     3 ... 40857 40858 40861]\n",
      "  Test:  index=[    0     4     6 ... 40859 40860 40862]\n"
     ]
    },
    {
     "data": {
      "text/plain": [
       "<Figure size 640x480 with 0 Axes>"
      ]
     },
     "metadata": {},
     "output_type": "display_data"
    }
   ],
   "source": [
    "from keras import layers\n",
    "from sklearn.model_selection import KFold\n",
    "from sklearn.preprocessing import StandardScaler\n",
    "import tensorflow.keras as keras\n",
    "\n",
    "scaler = StandardScaler()\n",
    "\n",
    "#normalize data\n",
    "input_data = mice_eeg[:,1:26]\n",
    "input_data = input_data.astype('float32')\n",
    "\n",
    "output_data = mice_eeg[:,0:1]\n",
    "\n",
    "output_data[output_data == 'w'] = 2.\n",
    "output_data[output_data == 'n'] = 1.\n",
    "output_data[output_data == 'r'] = 0.\n",
    "\n",
    "output_data = output_data.astype('float32')\n",
    "\n",
    "pl.clf()\n",
    "\n",
    "keras.utils.set_random_seed(123)\n",
    "kf = KFold(n_splits=3, shuffle=True)\n",
    "\n",
    "for i, (train_index, test_index) in enumerate(kf.split(mice_eeg)):\n",
    "    print(f\"Fold {i}:\")\n",
    "    print(f\"  Train: index={train_index}\")\n",
    "    print(f\"  Test:  index={test_index}\")\n"
   ]
  },
  {
   "cell_type": "markdown",
   "id": "b88fee2dc174fbbf",
   "metadata": {
    "id": "b88fee2dc174fbbf"
   },
   "source": [
    "## Data normalization"
   ]
  },
  {
   "cell_type": "code",
   "execution_count": 4,
   "id": "64c72cc4b0c51046",
   "metadata": {
    "ExecuteTime": {
     "end_time": "2024-04-21T15:55:02.291265Z",
     "start_time": "2024-04-21T15:55:02.245581Z"
    },
    "colab": {
     "base_uri": "https://localhost:8080/"
    },
    "id": "64c72cc4b0c51046",
    "outputId": "65590adb-10f0-4ca8-8fba-2842692a03b9"
   },
   "outputs": [
    {
     "data": {
      "text/html": [
       "<pre style=\"white-space:pre;overflow-x:auto;line-height:normal;font-family:Menlo,'DejaVu Sans Mono',consolas,'Courier New',monospace\"><span style=\"font-weight: bold\">Model: \"sequential\"</span>\n",
       "</pre>\n"
      ],
      "text/plain": [
       "\u001b[1mModel: \"sequential\"\u001b[0m\n"
      ]
     },
     "metadata": {},
     "output_type": "display_data"
    },
    {
     "data": {
      "text/html": [
       "<pre style=\"white-space:pre;overflow-x:auto;line-height:normal;font-family:Menlo,'DejaVu Sans Mono',consolas,'Courier New',monospace\">┏━━━━━━━━━━━━━━━━━━━━━━━━━━━━━━━━━┳━━━━━━━━━━━━━━━━━━━━━━━━┳━━━━━━━━━━━━━━━┓\n",
       "┃<span style=\"font-weight: bold\"> Layer (type)                    </span>┃<span style=\"font-weight: bold\"> Output Shape           </span>┃<span style=\"font-weight: bold\">       Param # </span>┃\n",
       "┡━━━━━━━━━━━━━━━━━━━━━━━━━━━━━━━━━╇━━━━━━━━━━━━━━━━━━━━━━━━╇━━━━━━━━━━━━━━━┩\n",
       "│ dense (<span style=\"color: #0087ff; text-decoration-color: #0087ff\">Dense</span>)                   │ (<span style=\"color: #00d7ff; text-decoration-color: #00d7ff\">None</span>, <span style=\"color: #00af00; text-decoration-color: #00af00\">32</span>)             │           <span style=\"color: #00af00; text-decoration-color: #00af00\">832</span> │\n",
       "├─────────────────────────────────┼────────────────────────┼───────────────┤\n",
       "│ dense_1 (<span style=\"color: #0087ff; text-decoration-color: #0087ff\">Dense</span>)                 │ (<span style=\"color: #00d7ff; text-decoration-color: #00d7ff\">None</span>, <span style=\"color: #00af00; text-decoration-color: #00af00\">32</span>)             │         <span style=\"color: #00af00; text-decoration-color: #00af00\">1,056</span> │\n",
       "├─────────────────────────────────┼────────────────────────┼───────────────┤\n",
       "│ dense_2 (<span style=\"color: #0087ff; text-decoration-color: #0087ff\">Dense</span>)                 │ (<span style=\"color: #00d7ff; text-decoration-color: #00d7ff\">None</span>, <span style=\"color: #00af00; text-decoration-color: #00af00\">3</span>)              │            <span style=\"color: #00af00; text-decoration-color: #00af00\">99</span> │\n",
       "└─────────────────────────────────┴────────────────────────┴───────────────┘\n",
       "</pre>\n"
      ],
      "text/plain": [
       "┏━━━━━━━━━━━━━━━━━━━━━━━━━━━━━━━━━┳━━━━━━━━━━━━━━━━━━━━━━━━┳━━━━━━━━━━━━━━━┓\n",
       "┃\u001b[1m \u001b[0m\u001b[1mLayer (type)                   \u001b[0m\u001b[1m \u001b[0m┃\u001b[1m \u001b[0m\u001b[1mOutput Shape          \u001b[0m\u001b[1m \u001b[0m┃\u001b[1m \u001b[0m\u001b[1m      Param #\u001b[0m\u001b[1m \u001b[0m┃\n",
       "┡━━━━━━━━━━━━━━━━━━━━━━━━━━━━━━━━━╇━━━━━━━━━━━━━━━━━━━━━━━━╇━━━━━━━━━━━━━━━┩\n",
       "│ dense (\u001b[38;5;33mDense\u001b[0m)                   │ (\u001b[38;5;45mNone\u001b[0m, \u001b[38;5;34m32\u001b[0m)             │           \u001b[38;5;34m832\u001b[0m │\n",
       "├─────────────────────────────────┼────────────────────────┼───────────────┤\n",
       "│ dense_1 (\u001b[38;5;33mDense\u001b[0m)                 │ (\u001b[38;5;45mNone\u001b[0m, \u001b[38;5;34m32\u001b[0m)             │         \u001b[38;5;34m1,056\u001b[0m │\n",
       "├─────────────────────────────────┼────────────────────────┼───────────────┤\n",
       "│ dense_2 (\u001b[38;5;33mDense\u001b[0m)                 │ (\u001b[38;5;45mNone\u001b[0m, \u001b[38;5;34m3\u001b[0m)              │            \u001b[38;5;34m99\u001b[0m │\n",
       "└─────────────────────────────────┴────────────────────────┴───────────────┘\n"
      ]
     },
     "metadata": {},
     "output_type": "display_data"
    },
    {
     "data": {
      "text/html": [
       "<pre style=\"white-space:pre;overflow-x:auto;line-height:normal;font-family:Menlo,'DejaVu Sans Mono',consolas,'Courier New',monospace\"><span style=\"font-weight: bold\"> Total params: </span><span style=\"color: #00af00; text-decoration-color: #00af00\">1,987</span> (7.76 KB)\n",
       "</pre>\n"
      ],
      "text/plain": [
       "\u001b[1m Total params: \u001b[0m\u001b[38;5;34m1,987\u001b[0m (7.76 KB)\n"
      ]
     },
     "metadata": {},
     "output_type": "display_data"
    },
    {
     "data": {
      "text/html": [
       "<pre style=\"white-space:pre;overflow-x:auto;line-height:normal;font-family:Menlo,'DejaVu Sans Mono',consolas,'Courier New',monospace\"><span style=\"font-weight: bold\"> Trainable params: </span><span style=\"color: #00af00; text-decoration-color: #00af00\">1,987</span> (7.76 KB)\n",
       "</pre>\n"
      ],
      "text/plain": [
       "\u001b[1m Trainable params: \u001b[0m\u001b[38;5;34m1,987\u001b[0m (7.76 KB)\n"
      ]
     },
     "metadata": {},
     "output_type": "display_data"
    },
    {
     "data": {
      "text/html": [
       "<pre style=\"white-space:pre;overflow-x:auto;line-height:normal;font-family:Menlo,'DejaVu Sans Mono',consolas,'Courier New',monospace\"><span style=\"font-weight: bold\"> Non-trainable params: </span><span style=\"color: #00af00; text-decoration-color: #00af00\">0</span> (0.00 B)\n",
       "</pre>\n"
      ],
      "text/plain": [
       "\u001b[1m Non-trainable params: \u001b[0m\u001b[38;5;34m0\u001b[0m (0.00 B)\n"
      ]
     },
     "metadata": {},
     "output_type": "display_data"
    }
   ],
   "source": [
    "from keras import regularizers\n",
    "\n",
    "def create_model():\n",
    "    mlp = keras.Sequential([\n",
    "        layers.Input(shape=(25,)),\n",
    "        layers.Dense(32, activation=\"relu\"),\n",
    "        layers.Dense(32, activation=\"relu\"),\n",
    "        layers.Dense(3)\n",
    "    ])\n",
    "\n",
    "    mlp.compile(\n",
    "    optimizer=keras.optimizers.Adam(\n",
    "        learning_rate=0.001,\n",
    "        beta_1=0.9,\n",
    "        beta_2=0.999,\n",
    "        epsilon=1e-07,\n",
    "        amsgrad=False\n",
    "    ),\n",
    "    loss=keras.losses.SparseCategoricalCrossentropy(from_logits=True),\n",
    "    metrics=[\"accuracy\"]\n",
    "    )\n",
    "\n",
    "\n",
    "    return mlp\n",
    "\n",
    "mlp = create_model()\n",
    "mlp.summary()"
   ]
  },
  {
   "cell_type": "code",
   "execution_count": 5,
   "id": "e6122833d9e057f0",
   "metadata": {
    "ExecuteTime": {
     "end_time": "2024-04-21T15:56:24.686278Z",
     "start_time": "2024-04-21T15:55:55.671666Z"
    },
    "colab": {
     "base_uri": "https://localhost:8080/"
    },
    "id": "e6122833d9e057f0",
    "outputId": "83e1d7dc-ad4a-46fb-9d57-cb07fc44e3bb"
   },
   "outputs": [
    {
     "name": "stdout",
     "output_type": "stream",
     "text": [
      "Epoch 1/100\n",
      "\u001b[1m852/852\u001b[0m \u001b[32m━━━━━━━━━━━━━━━━━━━━\u001b[0m\u001b[37m\u001b[0m \u001b[1m2s\u001b[0m 997us/step - accuracy: 0.8016 - loss: 0.5349 - val_accuracy: 0.8767 - val_loss: 0.3430\n",
      "Epoch 2/100\n",
      "\u001b[1m852/852\u001b[0m \u001b[32m━━━━━━━━━━━━━━━━━━━━\u001b[0m\u001b[37m\u001b[0m \u001b[1m1s\u001b[0m 850us/step - accuracy: 0.8757 - loss: 0.3481 - val_accuracy: 0.8791 - val_loss: 0.3303\n",
      "Epoch 3/100\n",
      "\u001b[1m852/852\u001b[0m \u001b[32m━━━━━━━━━━━━━━━━━━━━\u001b[0m\u001b[37m\u001b[0m \u001b[1m1s\u001b[0m 846us/step - accuracy: 0.8796 - loss: 0.3326 - val_accuracy: 0.8800 - val_loss: 0.3266\n",
      "Epoch 4/100\n",
      "\u001b[1m852/852\u001b[0m \u001b[32m━━━━━━━━━━━━━━━━━━━━\u001b[0m\u001b[37m\u001b[0m \u001b[1m1s\u001b[0m 851us/step - accuracy: 0.8821 - loss: 0.3257 - val_accuracy: 0.8813 - val_loss: 0.3248\n",
      "Epoch 5/100\n",
      "\u001b[1m852/852\u001b[0m \u001b[32m━━━━━━━━━━━━━━━━━━━━\u001b[0m\u001b[37m\u001b[0m \u001b[1m1s\u001b[0m 891us/step - accuracy: 0.8830 - loss: 0.3213 - val_accuracy: 0.8810 - val_loss: 0.3238\n",
      "Epoch 6/100\n",
      "\u001b[1m852/852\u001b[0m \u001b[32m━━━━━━━━━━━━━━━━━━━━\u001b[0m\u001b[37m\u001b[0m \u001b[1m1s\u001b[0m 849us/step - accuracy: 0.8834 - loss: 0.3185 - val_accuracy: 0.8808 - val_loss: 0.3236\n",
      "Epoch 7/100\n",
      "\u001b[1m852/852\u001b[0m \u001b[32m━━━━━━━━━━━━━━━━━━━━\u001b[0m\u001b[37m\u001b[0m \u001b[1m1s\u001b[0m 849us/step - accuracy: 0.8838 - loss: 0.3162 - val_accuracy: 0.8806 - val_loss: 0.3235\n",
      "Epoch 8/100\n",
      "\u001b[1m852/852\u001b[0m \u001b[32m━━━━━━━━━━━━━━━━━━━━\u001b[0m\u001b[37m\u001b[0m \u001b[1m1s\u001b[0m 854us/step - accuracy: 0.8844 - loss: 0.3142 - val_accuracy: 0.8814 - val_loss: 0.3236\n",
      "Epoch 9/100\n",
      "\u001b[1m852/852\u001b[0m \u001b[32m━━━━━━━━━━━━━━━━━━━━\u001b[0m\u001b[37m\u001b[0m \u001b[1m1s\u001b[0m 854us/step - accuracy: 0.8844 - loss: 0.3124 - val_accuracy: 0.8810 - val_loss: 0.3241\n",
      "Epoch 10/100\n",
      "\u001b[1m852/852\u001b[0m \u001b[32m━━━━━━━━━━━━━━━━━━━━\u001b[0m\u001b[37m\u001b[0m \u001b[1m1s\u001b[0m 877us/step - accuracy: 0.8859 - loss: 0.3109 - val_accuracy: 0.8808 - val_loss: 0.3247\n",
      "Epoch 11/100\n",
      "\u001b[1m852/852\u001b[0m \u001b[32m━━━━━━━━━━━━━━━━━━━━\u001b[0m\u001b[37m\u001b[0m \u001b[1m1s\u001b[0m 869us/step - accuracy: 0.8866 - loss: 0.3092 - val_accuracy: 0.8809 - val_loss: 0.3252\n",
      "Epoch 12/100\n",
      "\u001b[1m852/852\u001b[0m \u001b[32m━━━━━━━━━━━━━━━━━━━━\u001b[0m\u001b[37m\u001b[0m \u001b[1m1s\u001b[0m 876us/step - accuracy: 0.8868 - loss: 0.3080 - val_accuracy: 0.8811 - val_loss: 0.3258\n",
      "Epoch 13/100\n",
      "\u001b[1m852/852\u001b[0m \u001b[32m━━━━━━━━━━━━━━━━━━━━\u001b[0m\u001b[37m\u001b[0m \u001b[1m1s\u001b[0m 870us/step - accuracy: 0.8876 - loss: 0.3064 - val_accuracy: 0.8807 - val_loss: 0.3264\n",
      "Epoch 14/100\n",
      "\u001b[1m852/852\u001b[0m \u001b[32m━━━━━━━━━━━━━━━━━━━━\u001b[0m\u001b[37m\u001b[0m \u001b[1m1s\u001b[0m 892us/step - accuracy: 0.8880 - loss: 0.3051 - val_accuracy: 0.8800 - val_loss: 0.3268\n",
      "Epoch 15/100\n",
      "\u001b[1m852/852\u001b[0m \u001b[32m━━━━━━━━━━━━━━━━━━━━\u001b[0m\u001b[37m\u001b[0m \u001b[1m1s\u001b[0m 875us/step - accuracy: 0.8883 - loss: 0.3039 - val_accuracy: 0.8800 - val_loss: 0.3272\n",
      "Epoch 16/100\n",
      "\u001b[1m852/852\u001b[0m \u001b[32m━━━━━━━━━━━━━━━━━━━━\u001b[0m\u001b[37m\u001b[0m \u001b[1m1s\u001b[0m 884us/step - accuracy: 0.8886 - loss: 0.3027 - val_accuracy: 0.8797 - val_loss: 0.3278\n",
      "Epoch 17/100\n",
      "\u001b[1m852/852\u001b[0m \u001b[32m━━━━━━━━━━━━━━━━━━━━\u001b[0m\u001b[37m\u001b[0m \u001b[1m1s\u001b[0m 937us/step - accuracy: 0.8884 - loss: 0.3015 - val_accuracy: 0.8801 - val_loss: 0.3286\n",
      "Epoch 18/100\n",
      "\u001b[1m852/852\u001b[0m \u001b[32m━━━━━━━━━━━━━━━━━━━━\u001b[0m\u001b[37m\u001b[0m \u001b[1m1s\u001b[0m 898us/step - accuracy: 0.8885 - loss: 0.3007 - val_accuracy: 0.8794 - val_loss: 0.3291\n",
      "Epoch 19/100\n",
      "\u001b[1m852/852\u001b[0m \u001b[32m━━━━━━━━━━━━━━━━━━━━\u001b[0m\u001b[37m\u001b[0m \u001b[1m1s\u001b[0m 1ms/step - accuracy: 0.8897 - loss: 0.2996 - val_accuracy: 0.8793 - val_loss: 0.3302\n",
      "Epoch 20/100\n",
      "\u001b[1m852/852\u001b[0m \u001b[32m━━━━━━━━━━━━━━━━━━━━\u001b[0m\u001b[37m\u001b[0m \u001b[1m1s\u001b[0m 1ms/step - accuracy: 0.8892 - loss: 0.2987 - val_accuracy: 0.8791 - val_loss: 0.3311\n",
      "Epoch 21/100\n",
      "\u001b[1m852/852\u001b[0m \u001b[32m━━━━━━━━━━━━━━━━━━━━\u001b[0m\u001b[37m\u001b[0m \u001b[1m1s\u001b[0m 996us/step - accuracy: 0.8899 - loss: 0.2977 - val_accuracy: 0.8787 - val_loss: 0.3322\n",
      "Epoch 22/100\n",
      "\u001b[1m852/852\u001b[0m \u001b[32m━━━━━━━━━━━━━━━━━━━━\u001b[0m\u001b[37m\u001b[0m \u001b[1m1s\u001b[0m 963us/step - accuracy: 0.8904 - loss: 0.2968 - val_accuracy: 0.8785 - val_loss: 0.3329\n",
      "Epoch 23/100\n",
      "\u001b[1m852/852\u001b[0m \u001b[32m━━━━━━━━━━━━━━━━━━━━\u001b[0m\u001b[37m\u001b[0m \u001b[1m1s\u001b[0m 870us/step - accuracy: 0.8908 - loss: 0.2958 - val_accuracy: 0.8789 - val_loss: 0.3338\n",
      "Epoch 24/100\n",
      "\u001b[1m852/852\u001b[0m \u001b[32m━━━━━━━━━━━━━━━━━━━━\u001b[0m\u001b[37m\u001b[0m \u001b[1m1s\u001b[0m 927us/step - accuracy: 0.8911 - loss: 0.2951 - val_accuracy: 0.8779 - val_loss: 0.3348\n",
      "Epoch 25/100\n",
      "\u001b[1m852/852\u001b[0m \u001b[32m━━━━━━━━━━━━━━━━━━━━\u001b[0m\u001b[37m\u001b[0m \u001b[1m1s\u001b[0m 894us/step - accuracy: 0.8913 - loss: 0.2942 - val_accuracy: 0.8781 - val_loss: 0.3354\n",
      "Epoch 26/100\n",
      "\u001b[1m852/852\u001b[0m \u001b[32m━━━━━━━━━━━━━━━━━━━━\u001b[0m\u001b[37m\u001b[0m \u001b[1m1s\u001b[0m 864us/step - accuracy: 0.8917 - loss: 0.2934 - val_accuracy: 0.8781 - val_loss: 0.3362\n",
      "Epoch 27/100\n",
      "\u001b[1m852/852\u001b[0m \u001b[32m━━━━━━━━━━━━━━━━━━━━\u001b[0m\u001b[37m\u001b[0m \u001b[1m1s\u001b[0m 881us/step - accuracy: 0.8922 - loss: 0.2927 - val_accuracy: 0.8788 - val_loss: 0.3369\n",
      "Epoch 28/100\n",
      "\u001b[1m852/852\u001b[0m \u001b[32m━━━━━━━━━━━━━━━━━━━━\u001b[0m\u001b[37m\u001b[0m \u001b[1m1s\u001b[0m 941us/step - accuracy: 0.8932 - loss: 0.2919 - val_accuracy: 0.8789 - val_loss: 0.3378\n",
      "Epoch 29/100\n",
      "\u001b[1m852/852\u001b[0m \u001b[32m━━━━━━━━━━━━━━━━━━━━\u001b[0m\u001b[37m\u001b[0m \u001b[1m1s\u001b[0m 935us/step - accuracy: 0.8931 - loss: 0.2912 - val_accuracy: 0.8791 - val_loss: 0.3385\n",
      "Epoch 30/100\n",
      "\u001b[1m852/852\u001b[0m \u001b[32m━━━━━━━━━━━━━━━━━━━━\u001b[0m\u001b[37m\u001b[0m \u001b[1m1s\u001b[0m 1ms/step - accuracy: 0.8933 - loss: 0.2906 - val_accuracy: 0.8783 - val_loss: 0.3391\n",
      "Epoch 31/100\n",
      "\u001b[1m852/852\u001b[0m \u001b[32m━━━━━━━━━━━━━━━━━━━━\u001b[0m\u001b[37m\u001b[0m \u001b[1m1s\u001b[0m 950us/step - accuracy: 0.8937 - loss: 0.2899 - val_accuracy: 0.8783 - val_loss: 0.3397\n",
      "Epoch 32/100\n",
      "\u001b[1m852/852\u001b[0m \u001b[32m━━━━━━━━━━━━━━━━━━━━\u001b[0m\u001b[37m\u001b[0m \u001b[1m1s\u001b[0m 978us/step - accuracy: 0.8942 - loss: 0.2894 - val_accuracy: 0.8780 - val_loss: 0.3404\n",
      "Epoch 33/100\n",
      "\u001b[1m852/852\u001b[0m \u001b[32m━━━━━━━━━━━━━━━━━━━━\u001b[0m\u001b[37m\u001b[0m \u001b[1m1s\u001b[0m 864us/step - accuracy: 0.8947 - loss: 0.2890 - val_accuracy: 0.8786 - val_loss: 0.3410\n",
      "Epoch 34/100\n",
      "\u001b[1m852/852\u001b[0m \u001b[32m━━━━━━━━━━━━━━━━━━━━\u001b[0m\u001b[37m\u001b[0m \u001b[1m1s\u001b[0m 947us/step - accuracy: 0.8949 - loss: 0.2883 - val_accuracy: 0.8784 - val_loss: 0.3412\n",
      "Epoch 35/100\n",
      "\u001b[1m852/852\u001b[0m \u001b[32m━━━━━━━━━━━━━━━━━━━━\u001b[0m\u001b[37m\u001b[0m \u001b[1m1s\u001b[0m 872us/step - accuracy: 0.8956 - loss: 0.2877 - val_accuracy: 0.8789 - val_loss: 0.3418\n",
      "Epoch 36/100\n",
      "\u001b[1m852/852\u001b[0m \u001b[32m━━━━━━━━━━━━━━━━━━━━\u001b[0m\u001b[37m\u001b[0m \u001b[1m1s\u001b[0m 876us/step - accuracy: 0.8958 - loss: 0.2871 - val_accuracy: 0.8784 - val_loss: 0.3425\n",
      "Epoch 37/100\n",
      "\u001b[1m852/852\u001b[0m \u001b[32m━━━━━━━━━━━━━━━━━━━━\u001b[0m\u001b[37m\u001b[0m \u001b[1m1s\u001b[0m 852us/step - accuracy: 0.8959 - loss: 0.2867 - val_accuracy: 0.8791 - val_loss: 0.3434\n",
      "Epoch 38/100\n",
      "\u001b[1m852/852\u001b[0m \u001b[32m━━━━━━━━━━━━━━━━━━━━\u001b[0m\u001b[37m\u001b[0m \u001b[1m1s\u001b[0m 865us/step - accuracy: 0.8962 - loss: 0.2863 - val_accuracy: 0.8784 - val_loss: 0.3437\n",
      "Epoch 39/100\n",
      "\u001b[1m852/852\u001b[0m \u001b[32m━━━━━━━━━━━━━━━━━━━━\u001b[0m\u001b[37m\u001b[0m \u001b[1m1s\u001b[0m 861us/step - accuracy: 0.8965 - loss: 0.2856 - val_accuracy: 0.8792 - val_loss: 0.3443\n",
      "Epoch 40/100\n",
      "\u001b[1m852/852\u001b[0m \u001b[32m━━━━━━━━━━━━━━━━━━━━\u001b[0m\u001b[37m\u001b[0m \u001b[1m1s\u001b[0m 871us/step - accuracy: 0.8965 - loss: 0.2851 - val_accuracy: 0.8792 - val_loss: 0.3447\n",
      "Epoch 41/100\n",
      "\u001b[1m852/852\u001b[0m \u001b[32m━━━━━━━━━━━━━━━━━━━━\u001b[0m\u001b[37m\u001b[0m \u001b[1m1s\u001b[0m 955us/step - accuracy: 0.8971 - loss: 0.2847 - val_accuracy: 0.8780 - val_loss: 0.3453\n",
      "Epoch 42/100\n",
      "\u001b[1m852/852\u001b[0m \u001b[32m━━━━━━━━━━━━━━━━━━━━\u001b[0m\u001b[37m\u001b[0m \u001b[1m1s\u001b[0m 864us/step - accuracy: 0.8968 - loss: 0.2844 - val_accuracy: 0.8774 - val_loss: 0.3458\n",
      "Epoch 43/100\n",
      "\u001b[1m852/852\u001b[0m \u001b[32m━━━━━━━━━━━━━━━━━━━━\u001b[0m\u001b[37m\u001b[0m \u001b[1m1s\u001b[0m 921us/step - accuracy: 0.8972 - loss: 0.2839 - val_accuracy: 0.8778 - val_loss: 0.3465\n",
      "Epoch 44/100\n",
      "\u001b[1m852/852\u001b[0m \u001b[32m━━━━━━━━━━━━━━━━━━━━\u001b[0m\u001b[37m\u001b[0m \u001b[1m1s\u001b[0m 929us/step - accuracy: 0.8981 - loss: 0.2834 - val_accuracy: 0.8775 - val_loss: 0.3471\n",
      "Epoch 45/100\n",
      "\u001b[1m852/852\u001b[0m \u001b[32m━━━━━━━━━━━━━━━━━━━━\u001b[0m\u001b[37m\u001b[0m \u001b[1m1s\u001b[0m 885us/step - accuracy: 0.8973 - loss: 0.2831 - val_accuracy: 0.8777 - val_loss: 0.3475\n",
      "Epoch 46/100\n",
      "\u001b[1m852/852\u001b[0m \u001b[32m━━━━━━━━━━━━━━━━━━━━\u001b[0m\u001b[37m\u001b[0m \u001b[1m1s\u001b[0m 887us/step - accuracy: 0.8980 - loss: 0.2828 - val_accuracy: 0.8770 - val_loss: 0.3479\n",
      "Epoch 47/100\n",
      "\u001b[1m852/852\u001b[0m \u001b[32m━━━━━━━━━━━━━━━━━━━━\u001b[0m\u001b[37m\u001b[0m \u001b[1m1s\u001b[0m 861us/step - accuracy: 0.8977 - loss: 0.2825 - val_accuracy: 0.8764 - val_loss: 0.3487\n",
      "Epoch 48/100\n",
      "\u001b[1m852/852\u001b[0m \u001b[32m━━━━━━━━━━━━━━━━━━━━\u001b[0m\u001b[37m\u001b[0m \u001b[1m1s\u001b[0m 854us/step - accuracy: 0.8983 - loss: 0.2820 - val_accuracy: 0.8770 - val_loss: 0.3490\n",
      "Epoch 49/100\n",
      "\u001b[1m852/852\u001b[0m \u001b[32m━━━━━━━━━━━━━━━━━━━━\u001b[0m\u001b[37m\u001b[0m \u001b[1m1s\u001b[0m 877us/step - accuracy: 0.8981 - loss: 0.2817 - val_accuracy: 0.8766 - val_loss: 0.3499\n",
      "Epoch 50/100\n",
      "\u001b[1m852/852\u001b[0m \u001b[32m━━━━━━━━━━━━━━━━━━━━\u001b[0m\u001b[37m\u001b[0m \u001b[1m1s\u001b[0m 866us/step - accuracy: 0.8985 - loss: 0.2814 - val_accuracy: 0.8757 - val_loss: 0.3507\n",
      "Epoch 51/100\n",
      "\u001b[1m852/852\u001b[0m \u001b[32m━━━━━━━━━━━━━━━━━━━━\u001b[0m\u001b[37m\u001b[0m \u001b[1m1s\u001b[0m 863us/step - accuracy: 0.8981 - loss: 0.2811 - val_accuracy: 0.8746 - val_loss: 0.3510\n",
      "Epoch 52/100\n",
      "\u001b[1m852/852\u001b[0m \u001b[32m━━━━━━━━━━━━━━━━━━━━\u001b[0m\u001b[37m\u001b[0m \u001b[1m1s\u001b[0m 862us/step - accuracy: 0.8979 - loss: 0.2809 - val_accuracy: 0.8748 - val_loss: 0.3521\n",
      "Epoch 53/100\n",
      "\u001b[1m852/852\u001b[0m \u001b[32m━━━━━━━━━━━━━━━━━━━━\u001b[0m\u001b[37m\u001b[0m \u001b[1m1s\u001b[0m 857us/step - accuracy: 0.8987 - loss: 0.2804 - val_accuracy: 0.8749 - val_loss: 0.3531\n",
      "Epoch 54/100\n",
      "\u001b[1m852/852\u001b[0m \u001b[32m━━━━━━━━━━━━━━━━━━━━\u001b[0m\u001b[37m\u001b[0m \u001b[1m1s\u001b[0m 912us/step - accuracy: 0.8988 - loss: 0.2800 - val_accuracy: 0.8750 - val_loss: 0.3534\n",
      "Epoch 55/100\n",
      "\u001b[1m852/852\u001b[0m \u001b[32m━━━━━━━━━━━━━━━━━━━━\u001b[0m\u001b[37m\u001b[0m \u001b[1m1s\u001b[0m 869us/step - accuracy: 0.8988 - loss: 0.2798 - val_accuracy: 0.8752 - val_loss: 0.3537\n",
      "Epoch 56/100\n",
      "\u001b[1m852/852\u001b[0m \u001b[32m━━━━━━━━━━━━━━━━━━━━\u001b[0m\u001b[37m\u001b[0m \u001b[1m1s\u001b[0m 853us/step - accuracy: 0.8993 - loss: 0.2795 - val_accuracy: 0.8750 - val_loss: 0.3546\n",
      "Epoch 57/100\n",
      "\u001b[1m852/852\u001b[0m \u001b[32m━━━━━━━━━━━━━━━━━━━━\u001b[0m\u001b[37m\u001b[0m \u001b[1m1s\u001b[0m 850us/step - accuracy: 0.8990 - loss: 0.2792 - val_accuracy: 0.8750 - val_loss: 0.3552\n",
      "Epoch 58/100\n",
      "\u001b[1m852/852\u001b[0m \u001b[32m━━━━━━━━━━━━━━━━━━━━\u001b[0m\u001b[37m\u001b[0m \u001b[1m1s\u001b[0m 876us/step - accuracy: 0.8994 - loss: 0.2789 - val_accuracy: 0.8745 - val_loss: 0.3558\n",
      "Epoch 59/100\n",
      "\u001b[1m852/852\u001b[0m \u001b[32m━━━━━━━━━━━━━━━━━━━━\u001b[0m\u001b[37m\u001b[0m \u001b[1m1s\u001b[0m 872us/step - accuracy: 0.8992 - loss: 0.2787 - val_accuracy: 0.8749 - val_loss: 0.3565\n",
      "Epoch 60/100\n",
      "\u001b[1m852/852\u001b[0m \u001b[32m━━━━━━━━━━━━━━━━━━━━\u001b[0m\u001b[37m\u001b[0m \u001b[1m1s\u001b[0m 863us/step - accuracy: 0.8989 - loss: 0.2785 - val_accuracy: 0.8751 - val_loss: 0.3570\n",
      "Epoch 61/100\n",
      "\u001b[1m852/852\u001b[0m \u001b[32m━━━━━━━━━━━━━━━━━━━━\u001b[0m\u001b[37m\u001b[0m \u001b[1m1s\u001b[0m 863us/step - accuracy: 0.8993 - loss: 0.2781 - val_accuracy: 0.8748 - val_loss: 0.3578\n",
      "Epoch 62/100\n",
      "\u001b[1m852/852\u001b[0m \u001b[32m━━━━━━━━━━━━━━━━━━━━\u001b[0m\u001b[37m\u001b[0m \u001b[1m1s\u001b[0m 866us/step - accuracy: 0.8987 - loss: 0.2778 - val_accuracy: 0.8742 - val_loss: 0.3581\n",
      "Epoch 63/100\n",
      "\u001b[1m852/852\u001b[0m \u001b[32m━━━━━━━━━━━━━━━━━━━━\u001b[0m\u001b[37m\u001b[0m \u001b[1m1s\u001b[0m 875us/step - accuracy: 0.8986 - loss: 0.2776 - val_accuracy: 0.8741 - val_loss: 0.3586\n",
      "Epoch 64/100\n",
      "\u001b[1m852/852\u001b[0m \u001b[32m━━━━━━━━━━━━━━━━━━━━\u001b[0m\u001b[37m\u001b[0m \u001b[1m1s\u001b[0m 862us/step - accuracy: 0.8985 - loss: 0.2773 - val_accuracy: 0.8740 - val_loss: 0.3596\n",
      "Epoch 65/100\n",
      "\u001b[1m852/852\u001b[0m \u001b[32m━━━━━━━━━━━━━━━━━━━━\u001b[0m\u001b[37m\u001b[0m \u001b[1m1s\u001b[0m 871us/step - accuracy: 0.8988 - loss: 0.2767 - val_accuracy: 0.8748 - val_loss: 0.3600\n",
      "Epoch 66/100\n",
      "\u001b[1m852/852\u001b[0m \u001b[32m━━━━━━━━━━━━━━━━━━━━\u001b[0m\u001b[37m\u001b[0m \u001b[1m1s\u001b[0m 871us/step - accuracy: 0.8998 - loss: 0.2766 - val_accuracy: 0.8746 - val_loss: 0.3604\n",
      "Epoch 67/100\n",
      "\u001b[1m852/852\u001b[0m \u001b[32m━━━━━━━━━━━━━━━━━━━━\u001b[0m\u001b[37m\u001b[0m \u001b[1m1s\u001b[0m 870us/step - accuracy: 0.8996 - loss: 0.2763 - val_accuracy: 0.8743 - val_loss: 0.3603\n",
      "Epoch 68/100\n",
      "\u001b[1m852/852\u001b[0m \u001b[32m━━━━━━━━━━━━━━━━━━━━\u001b[0m\u001b[37m\u001b[0m \u001b[1m1s\u001b[0m 863us/step - accuracy: 0.8996 - loss: 0.2759 - val_accuracy: 0.8740 - val_loss: 0.3608\n",
      "Epoch 69/100\n",
      "\u001b[1m852/852\u001b[0m \u001b[32m━━━━━━━━━━━━━━━━━━━━\u001b[0m\u001b[37m\u001b[0m \u001b[1m1s\u001b[0m 871us/step - accuracy: 0.9001 - loss: 0.2758 - val_accuracy: 0.8740 - val_loss: 0.3611\n",
      "Epoch 70/100\n",
      "\u001b[1m852/852\u001b[0m \u001b[32m━━━━━━━━━━━━━━━━━━━━\u001b[0m\u001b[37m\u001b[0m \u001b[1m1s\u001b[0m 873us/step - accuracy: 0.8996 - loss: 0.2752 - val_accuracy: 0.8736 - val_loss: 0.3619\n",
      "Epoch 71/100\n",
      "\u001b[1m852/852\u001b[0m \u001b[32m━━━━━━━━━━━━━━━━━━━━\u001b[0m\u001b[37m\u001b[0m \u001b[1m1s\u001b[0m 882us/step - accuracy: 0.8998 - loss: 0.2754 - val_accuracy: 0.8740 - val_loss: 0.3620\n",
      "Epoch 72/100\n",
      "\u001b[1m852/852\u001b[0m \u001b[32m━━━━━━━━━━━━━━━━━━━━\u001b[0m\u001b[37m\u001b[0m \u001b[1m1s\u001b[0m 862us/step - accuracy: 0.8997 - loss: 0.2750 - val_accuracy: 0.8741 - val_loss: 0.3630\n",
      "Epoch 73/100\n",
      "\u001b[1m852/852\u001b[0m \u001b[32m━━━━━━━━━━━━━━━━━━━━\u001b[0m\u001b[37m\u001b[0m \u001b[1m1s\u001b[0m 869us/step - accuracy: 0.9004 - loss: 0.2750 - val_accuracy: 0.8747 - val_loss: 0.3627\n",
      "Epoch 74/100\n",
      "\u001b[1m852/852\u001b[0m \u001b[32m━━━━━━━━━━━━━━━━━━━━\u001b[0m\u001b[37m\u001b[0m \u001b[1m1s\u001b[0m 876us/step - accuracy: 0.9004 - loss: 0.2746 - val_accuracy: 0.8742 - val_loss: 0.3635\n",
      "Epoch 75/100\n",
      "\u001b[1m852/852\u001b[0m \u001b[32m━━━━━━━━━━━━━━━━━━━━\u001b[0m\u001b[37m\u001b[0m \u001b[1m1s\u001b[0m 875us/step - accuracy: 0.8999 - loss: 0.2744 - val_accuracy: 0.8741 - val_loss: 0.3642\n",
      "Epoch 76/100\n",
      "\u001b[1m852/852\u001b[0m \u001b[32m━━━━━━━━━━━━━━━━━━━━\u001b[0m\u001b[37m\u001b[0m \u001b[1m1s\u001b[0m 851us/step - accuracy: 0.8996 - loss: 0.2743 - val_accuracy: 0.8743 - val_loss: 0.3644\n",
      "Epoch 77/100\n",
      "\u001b[1m852/852\u001b[0m \u001b[32m━━━━━━━━━━━━━━━━━━━━\u001b[0m\u001b[37m\u001b[0m \u001b[1m1s\u001b[0m 869us/step - accuracy: 0.8999 - loss: 0.2741 - val_accuracy: 0.8736 - val_loss: 0.3653\n",
      "Epoch 78/100\n",
      "\u001b[1m852/852\u001b[0m \u001b[32m━━━━━━━━━━━━━━━━━━━━\u001b[0m\u001b[37m\u001b[0m \u001b[1m1s\u001b[0m 868us/step - accuracy: 0.8998 - loss: 0.2741 - val_accuracy: 0.8732 - val_loss: 0.3658\n",
      "Epoch 79/100\n",
      "\u001b[1m852/852\u001b[0m \u001b[32m━━━━━━━━━━━━━━━━━━━━\u001b[0m\u001b[37m\u001b[0m \u001b[1m1s\u001b[0m 903us/step - accuracy: 0.9002 - loss: 0.2738 - val_accuracy: 0.8731 - val_loss: 0.3666\n",
      "Epoch 80/100\n",
      "\u001b[1m852/852\u001b[0m \u001b[32m━━━━━━━━━━━━━━━━━━━━\u001b[0m\u001b[37m\u001b[0m \u001b[1m1s\u001b[0m 863us/step - accuracy: 0.9001 - loss: 0.2735 - val_accuracy: 0.8730 - val_loss: 0.3665\n",
      "Epoch 81/100\n",
      "\u001b[1m852/852\u001b[0m \u001b[32m━━━━━━━━━━━━━━━━━━━━\u001b[0m\u001b[37m\u001b[0m \u001b[1m1s\u001b[0m 955us/step - accuracy: 0.8993 - loss: 0.2732 - val_accuracy: 0.8734 - val_loss: 0.3671\n",
      "Epoch 82/100\n",
      "\u001b[1m852/852\u001b[0m \u001b[32m━━━━━━━━━━━━━━━━━━━━\u001b[0m\u001b[37m\u001b[0m \u001b[1m1s\u001b[0m 884us/step - accuracy: 0.8992 - loss: 0.2732 - val_accuracy: 0.8730 - val_loss: 0.3678\n",
      "Epoch 83/100\n",
      "\u001b[1m852/852\u001b[0m \u001b[32m━━━━━━━━━━━━━━━━━━━━\u001b[0m\u001b[37m\u001b[0m \u001b[1m1s\u001b[0m 870us/step - accuracy: 0.8996 - loss: 0.2731 - val_accuracy: 0.8731 - val_loss: 0.3681\n",
      "Epoch 84/100\n",
      "\u001b[1m852/852\u001b[0m \u001b[32m━━━━━━━━━━━━━━━━━━━━\u001b[0m\u001b[37m\u001b[0m \u001b[1m1s\u001b[0m 892us/step - accuracy: 0.8999 - loss: 0.2726 - val_accuracy: 0.8728 - val_loss: 0.3683\n",
      "Epoch 85/100\n",
      "\u001b[1m852/852\u001b[0m \u001b[32m━━━━━━━━━━━━━━━━━━━━\u001b[0m\u001b[37m\u001b[0m \u001b[1m1s\u001b[0m 879us/step - accuracy: 0.9004 - loss: 0.2724 - val_accuracy: 0.8732 - val_loss: 0.3681\n",
      "Epoch 86/100\n",
      "\u001b[1m852/852\u001b[0m \u001b[32m━━━━━━━━━━━━━━━━━━━━\u001b[0m\u001b[37m\u001b[0m \u001b[1m1s\u001b[0m 868us/step - accuracy: 0.9004 - loss: 0.2722 - val_accuracy: 0.8726 - val_loss: 0.3690\n",
      "Epoch 87/100\n",
      "\u001b[1m852/852\u001b[0m \u001b[32m━━━━━━━━━━━━━━━━━━━━\u001b[0m\u001b[37m\u001b[0m \u001b[1m1s\u001b[0m 880us/step - accuracy: 0.9003 - loss: 0.2717 - val_accuracy: 0.8728 - val_loss: 0.3692\n",
      "Epoch 88/100\n",
      "\u001b[1m852/852\u001b[0m \u001b[32m━━━━━━━━━━━━━━━━━━━━\u001b[0m\u001b[37m\u001b[0m \u001b[1m1s\u001b[0m 887us/step - accuracy: 0.9002 - loss: 0.2715 - val_accuracy: 0.8730 - val_loss: 0.3700\n",
      "Epoch 89/100\n",
      "\u001b[1m852/852\u001b[0m \u001b[32m━━━━━━━━━━━━━━━━━━━━\u001b[0m\u001b[37m\u001b[0m \u001b[1m1s\u001b[0m 877us/step - accuracy: 0.9005 - loss: 0.2712 - val_accuracy: 0.8724 - val_loss: 0.3703\n",
      "Epoch 90/100\n",
      "\u001b[1m852/852\u001b[0m \u001b[32m━━━━━━━━━━━━━━━━━━━━\u001b[0m\u001b[37m\u001b[0m \u001b[1m1s\u001b[0m 875us/step - accuracy: 0.9002 - loss: 0.2710 - val_accuracy: 0.8722 - val_loss: 0.3709\n",
      "Epoch 91/100\n",
      "\u001b[1m852/852\u001b[0m \u001b[32m━━━━━━━━━━━━━━━━━━━━\u001b[0m\u001b[37m\u001b[0m \u001b[1m1s\u001b[0m 874us/step - accuracy: 0.9005 - loss: 0.2711 - val_accuracy: 0.8723 - val_loss: 0.3708\n",
      "Epoch 92/100\n",
      "\u001b[1m852/852\u001b[0m \u001b[32m━━━━━━━━━━━━━━━━━━━━\u001b[0m\u001b[37m\u001b[0m \u001b[1m1s\u001b[0m 880us/step - accuracy: 0.9001 - loss: 0.2704 - val_accuracy: 0.8723 - val_loss: 0.3712\n",
      "Epoch 93/100\n",
      "\u001b[1m852/852\u001b[0m \u001b[32m━━━━━━━━━━━━━━━━━━━━\u001b[0m\u001b[37m\u001b[0m \u001b[1m1s\u001b[0m 865us/step - accuracy: 0.9003 - loss: 0.2705 - val_accuracy: 0.8714 - val_loss: 0.3719\n",
      "Epoch 94/100\n",
      "\u001b[1m852/852\u001b[0m \u001b[32m━━━━━━━━━━━━━━━━━━━━\u001b[0m\u001b[37m\u001b[0m \u001b[1m1s\u001b[0m 871us/step - accuracy: 0.8999 - loss: 0.2703 - val_accuracy: 0.8721 - val_loss: 0.3725\n",
      "Epoch 95/100\n",
      "\u001b[1m852/852\u001b[0m \u001b[32m━━━━━━━━━━━━━━━━━━━━\u001b[0m\u001b[37m\u001b[0m \u001b[1m1s\u001b[0m 879us/step - accuracy: 0.9003 - loss: 0.2701 - val_accuracy: 0.8720 - val_loss: 0.3727\n",
      "Epoch 96/100\n",
      "\u001b[1m852/852\u001b[0m \u001b[32m━━━━━━━━━━━━━━━━━━━━\u001b[0m\u001b[37m\u001b[0m \u001b[1m1s\u001b[0m 875us/step - accuracy: 0.8998 - loss: 0.2701 - val_accuracy: 0.8714 - val_loss: 0.3735\n",
      "Epoch 97/100\n",
      "\u001b[1m852/852\u001b[0m \u001b[32m━━━━━━━━━━━━━━━━━━━━\u001b[0m\u001b[37m\u001b[0m \u001b[1m1s\u001b[0m 889us/step - accuracy: 0.9001 - loss: 0.2698 - val_accuracy: 0.8717 - val_loss: 0.3735\n",
      "Epoch 98/100\n",
      "\u001b[1m852/852\u001b[0m \u001b[32m━━━━━━━━━━━━━━━━━━━━\u001b[0m\u001b[37m\u001b[0m \u001b[1m1s\u001b[0m 886us/step - accuracy: 0.9006 - loss: 0.2694 - val_accuracy: 0.8713 - val_loss: 0.3746\n",
      "Epoch 99/100\n",
      "\u001b[1m852/852\u001b[0m \u001b[32m━━━━━━━━━━━━━━━━━━━━\u001b[0m\u001b[37m\u001b[0m \u001b[1m1s\u001b[0m 901us/step - accuracy: 0.9006 - loss: 0.2694 - val_accuracy: 0.8717 - val_loss: 0.3747\n",
      "Epoch 100/100\n",
      "\u001b[1m852/852\u001b[0m \u001b[32m━━━━━━━━━━━━━━━━━━━━\u001b[0m\u001b[37m\u001b[0m \u001b[1m1s\u001b[0m 910us/step - accuracy: 0.9012 - loss: 0.2692 - val_accuracy: 0.8717 - val_loss: 0.3748\n",
      "Epoch 1/100\n",
      "\u001b[1m852/852\u001b[0m \u001b[32m━━━━━━━━━━━━━━━━━━━━\u001b[0m\u001b[37m\u001b[0m \u001b[1m2s\u001b[0m 1ms/step - accuracy: 0.8172 - loss: 0.5191 - val_accuracy: 0.8748 - val_loss: 0.3596\n",
      "Epoch 2/100\n",
      "\u001b[1m852/852\u001b[0m \u001b[32m━━━━━━━━━━━━━━━━━━━━\u001b[0m\u001b[37m\u001b[0m \u001b[1m1s\u001b[0m 979us/step - accuracy: 0.8757 - loss: 0.3453 - val_accuracy: 0.8780 - val_loss: 0.3453\n",
      "Epoch 3/100\n",
      "\u001b[1m852/852\u001b[0m \u001b[32m━━━━━━━━━━━━━━━━━━━━\u001b[0m\u001b[37m\u001b[0m \u001b[1m1s\u001b[0m 896us/step - accuracy: 0.8799 - loss: 0.3306 - val_accuracy: 0.8793 - val_loss: 0.3400\n",
      "Epoch 4/100\n",
      "\u001b[1m852/852\u001b[0m \u001b[32m━━━━━━━━━━━━━━━━━━━━\u001b[0m\u001b[37m\u001b[0m \u001b[1m1s\u001b[0m 932us/step - accuracy: 0.8815 - loss: 0.3233 - val_accuracy: 0.8806 - val_loss: 0.3372\n",
      "Epoch 5/100\n",
      "\u001b[1m852/852\u001b[0m \u001b[32m━━━━━━━━━━━━━━━━━━━━\u001b[0m\u001b[37m\u001b[0m \u001b[1m1s\u001b[0m 927us/step - accuracy: 0.8839 - loss: 0.3182 - val_accuracy: 0.8812 - val_loss: 0.3354\n",
      "Epoch 6/100\n",
      "\u001b[1m852/852\u001b[0m \u001b[32m━━━━━━━━━━━━━━━━━━━━\u001b[0m\u001b[37m\u001b[0m \u001b[1m1s\u001b[0m 917us/step - accuracy: 0.8845 - loss: 0.3145 - val_accuracy: 0.8819 - val_loss: 0.3342\n",
      "Epoch 7/100\n",
      "\u001b[1m852/852\u001b[0m \u001b[32m━━━━━━━━━━━━━━━━━━━━\u001b[0m\u001b[37m\u001b[0m \u001b[1m1s\u001b[0m 957us/step - accuracy: 0.8841 - loss: 0.3118 - val_accuracy: 0.8820 - val_loss: 0.3337\n",
      "Epoch 8/100\n",
      "\u001b[1m852/852\u001b[0m \u001b[32m━━━━━━━━━━━━━━━━━━━━\u001b[0m\u001b[37m\u001b[0m \u001b[1m1s\u001b[0m 934us/step - accuracy: 0.8859 - loss: 0.3095 - val_accuracy: 0.8818 - val_loss: 0.3331\n",
      "Epoch 9/100\n",
      "\u001b[1m852/852\u001b[0m \u001b[32m━━━━━━━━━━━━━━━━━━━━\u001b[0m\u001b[37m\u001b[0m \u001b[1m1s\u001b[0m 921us/step - accuracy: 0.8858 - loss: 0.3075 - val_accuracy: 0.8824 - val_loss: 0.3328\n",
      "Epoch 10/100\n",
      "\u001b[1m852/852\u001b[0m \u001b[32m━━━━━━━━━━━━━━━━━━━━\u001b[0m\u001b[37m\u001b[0m \u001b[1m1s\u001b[0m 940us/step - accuracy: 0.8865 - loss: 0.3057 - val_accuracy: 0.8818 - val_loss: 0.3328\n",
      "Epoch 11/100\n",
      "\u001b[1m852/852\u001b[0m \u001b[32m━━━━━━━━━━━━━━━━━━━━\u001b[0m\u001b[37m\u001b[0m \u001b[1m1s\u001b[0m 902us/step - accuracy: 0.8866 - loss: 0.3038 - val_accuracy: 0.8815 - val_loss: 0.3327\n",
      "Epoch 12/100\n",
      "\u001b[1m852/852\u001b[0m \u001b[32m━━━━━━━━━━━━━━━━━━━━\u001b[0m\u001b[37m\u001b[0m \u001b[1m1s\u001b[0m 931us/step - accuracy: 0.8869 - loss: 0.3022 - val_accuracy: 0.8807 - val_loss: 0.3330\n",
      "Epoch 13/100\n",
      "\u001b[1m852/852\u001b[0m \u001b[32m━━━━━━━━━━━━━━━━━━━━\u001b[0m\u001b[37m\u001b[0m \u001b[1m1s\u001b[0m 975us/step - accuracy: 0.8873 - loss: 0.3008 - val_accuracy: 0.8812 - val_loss: 0.3330\n",
      "Epoch 14/100\n",
      "\u001b[1m852/852\u001b[0m \u001b[32m━━━━━━━━━━━━━━━━━━━━\u001b[0m\u001b[37m\u001b[0m \u001b[1m1s\u001b[0m 1ms/step - accuracy: 0.8872 - loss: 0.2993 - val_accuracy: 0.8808 - val_loss: 0.3334\n",
      "Epoch 15/100\n",
      "\u001b[1m852/852\u001b[0m \u001b[32m━━━━━━━━━━━━━━━━━━━━\u001b[0m\u001b[37m\u001b[0m \u001b[1m1s\u001b[0m 1ms/step - accuracy: 0.8881 - loss: 0.2980 - val_accuracy: 0.8806 - val_loss: 0.3339\n",
      "Epoch 16/100\n",
      "\u001b[1m852/852\u001b[0m \u001b[32m━━━━━━━━━━━━━━━━━━━━\u001b[0m\u001b[37m\u001b[0m \u001b[1m1s\u001b[0m 1ms/step - accuracy: 0.8889 - loss: 0.2969 - val_accuracy: 0.8799 - val_loss: 0.3343\n",
      "Epoch 17/100\n",
      "\u001b[1m852/852\u001b[0m \u001b[32m━━━━━━━━━━━━━━━━━━━━\u001b[0m\u001b[37m\u001b[0m \u001b[1m1s\u001b[0m 1ms/step - accuracy: 0.8896 - loss: 0.2956 - val_accuracy: 0.8795 - val_loss: 0.3349\n",
      "Epoch 18/100\n",
      "\u001b[1m852/852\u001b[0m \u001b[32m━━━━━━━━━━━━━━━━━━━━\u001b[0m\u001b[37m\u001b[0m \u001b[1m1s\u001b[0m 1ms/step - accuracy: 0.8905 - loss: 0.2945 - val_accuracy: 0.8797 - val_loss: 0.3351\n",
      "Epoch 19/100\n",
      "\u001b[1m852/852\u001b[0m \u001b[32m━━━━━━━━━━━━━━━━━━━━\u001b[0m\u001b[37m\u001b[0m \u001b[1m1s\u001b[0m 1ms/step - accuracy: 0.8910 - loss: 0.2935 - val_accuracy: 0.8793 - val_loss: 0.3354\n",
      "Epoch 20/100\n",
      "\u001b[1m852/852\u001b[0m \u001b[32m━━━━━━━━━━━━━━━━━━━━\u001b[0m\u001b[37m\u001b[0m \u001b[1m1s\u001b[0m 1ms/step - accuracy: 0.8909 - loss: 0.2926 - val_accuracy: 0.8790 - val_loss: 0.3360\n",
      "Epoch 21/100\n",
      "\u001b[1m852/852\u001b[0m \u001b[32m━━━━━━━━━━━━━━━━━━━━\u001b[0m\u001b[37m\u001b[0m \u001b[1m1s\u001b[0m 1ms/step - accuracy: 0.8910 - loss: 0.2916 - val_accuracy: 0.8794 - val_loss: 0.3365\n",
      "Epoch 22/100\n",
      "\u001b[1m852/852\u001b[0m \u001b[32m━━━━━━━━━━━━━━━━━━━━\u001b[0m\u001b[37m\u001b[0m \u001b[1m1s\u001b[0m 1ms/step - accuracy: 0.8913 - loss: 0.2909 - val_accuracy: 0.8795 - val_loss: 0.3373\n",
      "Epoch 23/100\n",
      "\u001b[1m852/852\u001b[0m \u001b[32m━━━━━━━━━━━━━━━━━━━━\u001b[0m\u001b[37m\u001b[0m \u001b[1m1s\u001b[0m 1ms/step - accuracy: 0.8915 - loss: 0.2901 - val_accuracy: 0.8787 - val_loss: 0.3381\n",
      "Epoch 24/100\n",
      "\u001b[1m852/852\u001b[0m \u001b[32m━━━━━━━━━━━━━━━━━━━━\u001b[0m\u001b[37m\u001b[0m \u001b[1m1s\u001b[0m 1ms/step - accuracy: 0.8920 - loss: 0.2895 - val_accuracy: 0.8785 - val_loss: 0.3385\n",
      "Epoch 25/100\n",
      "\u001b[1m852/852\u001b[0m \u001b[32m━━━━━━━━━━━━━━━━━━━━\u001b[0m\u001b[37m\u001b[0m \u001b[1m1s\u001b[0m 997us/step - accuracy: 0.8929 - loss: 0.2884 - val_accuracy: 0.8788 - val_loss: 0.3393\n",
      "Epoch 26/100\n",
      "\u001b[1m852/852\u001b[0m \u001b[32m━━━━━━━━━━━━━━━━━━━━\u001b[0m\u001b[37m\u001b[0m \u001b[1m1s\u001b[0m 906us/step - accuracy: 0.8931 - loss: 0.2878 - val_accuracy: 0.8788 - val_loss: 0.3396\n",
      "Epoch 27/100\n",
      "\u001b[1m852/852\u001b[0m \u001b[32m━━━━━━━━━━━━━━━━━━━━\u001b[0m\u001b[37m\u001b[0m \u001b[1m1s\u001b[0m 951us/step - accuracy: 0.8939 - loss: 0.2872 - val_accuracy: 0.8791 - val_loss: 0.3404\n",
      "Epoch 28/100\n",
      "\u001b[1m852/852\u001b[0m \u001b[32m━━━━━━━━━━━━━━━━━━━━\u001b[0m\u001b[37m\u001b[0m \u001b[1m1s\u001b[0m 908us/step - accuracy: 0.8933 - loss: 0.2866 - val_accuracy: 0.8797 - val_loss: 0.3410\n",
      "Epoch 29/100\n",
      "\u001b[1m852/852\u001b[0m \u001b[32m━━━━━━━━━━━━━━━━━━━━\u001b[0m\u001b[37m\u001b[0m \u001b[1m1s\u001b[0m 885us/step - accuracy: 0.8941 - loss: 0.2860 - val_accuracy: 0.8795 - val_loss: 0.3415\n",
      "Epoch 30/100\n",
      "\u001b[1m852/852\u001b[0m \u001b[32m━━━━━━━━━━━━━━━━━━━━\u001b[0m\u001b[37m\u001b[0m \u001b[1m1s\u001b[0m 913us/step - accuracy: 0.8942 - loss: 0.2856 - val_accuracy: 0.8792 - val_loss: 0.3424\n",
      "Epoch 31/100\n",
      "\u001b[1m852/852\u001b[0m \u001b[32m━━━━━━━━━━━━━━━━━━━━\u001b[0m\u001b[37m\u001b[0m \u001b[1m1s\u001b[0m 924us/step - accuracy: 0.8946 - loss: 0.2849 - val_accuracy: 0.8799 - val_loss: 0.3429\n",
      "Epoch 32/100\n",
      "\u001b[1m852/852\u001b[0m \u001b[32m━━━━━━━━━━━━━━━━━━━━\u001b[0m\u001b[37m\u001b[0m \u001b[1m1s\u001b[0m 905us/step - accuracy: 0.8948 - loss: 0.2846 - val_accuracy: 0.8793 - val_loss: 0.3431\n",
      "Epoch 33/100\n",
      "\u001b[1m852/852\u001b[0m \u001b[32m━━━━━━━━━━━━━━━━━━━━\u001b[0m\u001b[37m\u001b[0m \u001b[1m1s\u001b[0m 908us/step - accuracy: 0.8949 - loss: 0.2840 - val_accuracy: 0.8784 - val_loss: 0.3442\n",
      "Epoch 34/100\n",
      "\u001b[1m852/852\u001b[0m \u001b[32m━━━━━━━━━━━━━━━━━━━━\u001b[0m\u001b[37m\u001b[0m \u001b[1m1s\u001b[0m 909us/step - accuracy: 0.8951 - loss: 0.2835 - val_accuracy: 0.8783 - val_loss: 0.3445\n",
      "Epoch 35/100\n",
      "\u001b[1m852/852\u001b[0m \u001b[32m━━━━━━━━━━━━━━━━━━━━\u001b[0m\u001b[37m\u001b[0m \u001b[1m1s\u001b[0m 999us/step - accuracy: 0.8956 - loss: 0.2833 - val_accuracy: 0.8786 - val_loss: 0.3450\n",
      "Epoch 36/100\n",
      "\u001b[1m852/852\u001b[0m \u001b[32m━━━━━━━━━━━━━━━━━━━━\u001b[0m\u001b[37m\u001b[0m \u001b[1m1s\u001b[0m 1ms/step - accuracy: 0.8959 - loss: 0.2828 - val_accuracy: 0.8785 - val_loss: 0.3458\n",
      "Epoch 37/100\n",
      "\u001b[1m852/852\u001b[0m \u001b[32m━━━━━━━━━━━━━━━━━━━━\u001b[0m\u001b[37m\u001b[0m \u001b[1m1s\u001b[0m 986us/step - accuracy: 0.8958 - loss: 0.2825 - val_accuracy: 0.8783 - val_loss: 0.3462\n",
      "Epoch 38/100\n",
      "\u001b[1m852/852\u001b[0m \u001b[32m━━━━━━━━━━━━━━━━━━━━\u001b[0m\u001b[37m\u001b[0m \u001b[1m1s\u001b[0m 958us/step - accuracy: 0.8954 - loss: 0.2821 - val_accuracy: 0.8786 - val_loss: 0.3471\n",
      "Epoch 39/100\n",
      "\u001b[1m852/852\u001b[0m \u001b[32m━━━━━━━━━━━━━━━━━━━━\u001b[0m\u001b[37m\u001b[0m \u001b[1m1s\u001b[0m 982us/step - accuracy: 0.8960 - loss: 0.2816 - val_accuracy: 0.8788 - val_loss: 0.3475\n",
      "Epoch 40/100\n",
      "\u001b[1m852/852\u001b[0m \u001b[32m━━━━━━━━━━━━━━━━━━━━\u001b[0m\u001b[37m\u001b[0m \u001b[1m1s\u001b[0m 1ms/step - accuracy: 0.8963 - loss: 0.2813 - val_accuracy: 0.8783 - val_loss: 0.3481\n",
      "Epoch 41/100\n",
      "\u001b[1m852/852\u001b[0m \u001b[32m━━━━━━━━━━━━━━━━━━━━\u001b[0m\u001b[37m\u001b[0m \u001b[1m1s\u001b[0m 948us/step - accuracy: 0.8962 - loss: 0.2809 - val_accuracy: 0.8785 - val_loss: 0.3490\n",
      "Epoch 42/100\n",
      "\u001b[1m852/852\u001b[0m \u001b[32m━━━━━━━━━━━━━━━━━━━━\u001b[0m\u001b[37m\u001b[0m \u001b[1m1s\u001b[0m 997us/step - accuracy: 0.8964 - loss: 0.2806 - val_accuracy: 0.8786 - val_loss: 0.3493\n",
      "Epoch 43/100\n",
      "\u001b[1m852/852\u001b[0m \u001b[32m━━━━━━━━━━━━━━━━━━━━\u001b[0m\u001b[37m\u001b[0m \u001b[1m1s\u001b[0m 935us/step - accuracy: 0.8968 - loss: 0.2802 - val_accuracy: 0.8784 - val_loss: 0.3498\n",
      "Epoch 44/100\n",
      "\u001b[1m852/852\u001b[0m \u001b[32m━━━━━━━━━━━━━━━━━━━━\u001b[0m\u001b[37m\u001b[0m \u001b[1m1s\u001b[0m 906us/step - accuracy: 0.8974 - loss: 0.2798 - val_accuracy: 0.8782 - val_loss: 0.3502\n",
      "Epoch 45/100\n",
      "\u001b[1m852/852\u001b[0m \u001b[32m━━━━━━━━━━━━━━━━━━━━\u001b[0m\u001b[37m\u001b[0m \u001b[1m1s\u001b[0m 898us/step - accuracy: 0.8977 - loss: 0.2796 - val_accuracy: 0.8772 - val_loss: 0.3508\n",
      "Epoch 46/100\n",
      "\u001b[1m852/852\u001b[0m \u001b[32m━━━━━━━━━━━━━━━━━━━━\u001b[0m\u001b[37m\u001b[0m \u001b[1m1s\u001b[0m 948us/step - accuracy: 0.8978 - loss: 0.2792 - val_accuracy: 0.8778 - val_loss: 0.3515\n",
      "Epoch 47/100\n",
      "\u001b[1m852/852\u001b[0m \u001b[32m━━━━━━━━━━━━━━━━━━━━\u001b[0m\u001b[37m\u001b[0m \u001b[1m1s\u001b[0m 991us/step - accuracy: 0.8978 - loss: 0.2789 - val_accuracy: 0.8774 - val_loss: 0.3519\n",
      "Epoch 48/100\n",
      "\u001b[1m852/852\u001b[0m \u001b[32m━━━━━━━━━━━━━━━━━━━━\u001b[0m\u001b[37m\u001b[0m \u001b[1m1s\u001b[0m 966us/step - accuracy: 0.8985 - loss: 0.2785 - val_accuracy: 0.8776 - val_loss: 0.3522\n",
      "Epoch 49/100\n",
      "\u001b[1m852/852\u001b[0m \u001b[32m━━━━━━━━━━━━━━━━━━━━\u001b[0m\u001b[37m\u001b[0m \u001b[1m1s\u001b[0m 920us/step - accuracy: 0.8982 - loss: 0.2781 - val_accuracy: 0.8775 - val_loss: 0.3528\n",
      "Epoch 50/100\n",
      "\u001b[1m852/852\u001b[0m \u001b[32m━━━━━━━━━━━━━━━━━━━━\u001b[0m\u001b[37m\u001b[0m \u001b[1m1s\u001b[0m 914us/step - accuracy: 0.8981 - loss: 0.2779 - val_accuracy: 0.8775 - val_loss: 0.3528\n",
      "Epoch 51/100\n",
      "\u001b[1m852/852\u001b[0m \u001b[32m━━━━━━━━━━━━━━━━━━━━\u001b[0m\u001b[37m\u001b[0m \u001b[1m1s\u001b[0m 943us/step - accuracy: 0.8985 - loss: 0.2775 - val_accuracy: 0.8780 - val_loss: 0.3531\n",
      "Epoch 52/100\n",
      "\u001b[1m852/852\u001b[0m \u001b[32m━━━━━━━━━━━━━━━━━━━━\u001b[0m\u001b[37m\u001b[0m \u001b[1m1s\u001b[0m 913us/step - accuracy: 0.8980 - loss: 0.2772 - val_accuracy: 0.8778 - val_loss: 0.3542\n",
      "Epoch 53/100\n",
      "\u001b[1m852/852\u001b[0m \u001b[32m━━━━━━━━━━━━━━━━━━━━\u001b[0m\u001b[37m\u001b[0m \u001b[1m1s\u001b[0m 963us/step - accuracy: 0.8986 - loss: 0.2769 - val_accuracy: 0.8780 - val_loss: 0.3542\n",
      "Epoch 54/100\n",
      "\u001b[1m852/852\u001b[0m \u001b[32m━━━━━━━━━━━━━━━━━━━━\u001b[0m\u001b[37m\u001b[0m \u001b[1m1s\u001b[0m 898us/step - accuracy: 0.8992 - loss: 0.2766 - val_accuracy: 0.8771 - val_loss: 0.3548\n",
      "Epoch 55/100\n",
      "\u001b[1m852/852\u001b[0m \u001b[32m━━━━━━━━━━━━━━━━━━━━\u001b[0m\u001b[37m\u001b[0m \u001b[1m1s\u001b[0m 907us/step - accuracy: 0.8990 - loss: 0.2762 - val_accuracy: 0.8779 - val_loss: 0.3557\n",
      "Epoch 56/100\n",
      "\u001b[1m852/852\u001b[0m \u001b[32m━━━━━━━━━━━━━━━━━━━━\u001b[0m\u001b[37m\u001b[0m \u001b[1m1s\u001b[0m 899us/step - accuracy: 0.8992 - loss: 0.2760 - val_accuracy: 0.8773 - val_loss: 0.3563\n",
      "Epoch 57/100\n",
      "\u001b[1m852/852\u001b[0m \u001b[32m━━━━━━━━━━━━━━━━━━━━\u001b[0m\u001b[37m\u001b[0m \u001b[1m1s\u001b[0m 899us/step - accuracy: 0.8995 - loss: 0.2758 - val_accuracy: 0.8780 - val_loss: 0.3565\n",
      "Epoch 58/100\n",
      "\u001b[1m852/852\u001b[0m \u001b[32m━━━━━━━━━━━━━━━━━━━━\u001b[0m\u001b[37m\u001b[0m \u001b[1m1s\u001b[0m 912us/step - accuracy: 0.8996 - loss: 0.2751 - val_accuracy: 0.8780 - val_loss: 0.3574\n",
      "Epoch 59/100\n",
      "\u001b[1m852/852\u001b[0m \u001b[32m━━━━━━━━━━━━━━━━━━━━\u001b[0m\u001b[37m\u001b[0m \u001b[1m1s\u001b[0m 1ms/step - accuracy: 0.8991 - loss: 0.2748 - val_accuracy: 0.8775 - val_loss: 0.3583\n",
      "Epoch 60/100\n",
      "\u001b[1m852/852\u001b[0m \u001b[32m━━━━━━━━━━━━━━━━━━━━\u001b[0m\u001b[37m\u001b[0m \u001b[1m1s\u001b[0m 899us/step - accuracy: 0.8992 - loss: 0.2746 - val_accuracy: 0.8786 - val_loss: 0.3590\n",
      "Epoch 61/100\n",
      "\u001b[1m852/852\u001b[0m \u001b[32m━━━━━━━━━━━━━━━━━━━━\u001b[0m\u001b[37m\u001b[0m \u001b[1m1s\u001b[0m 914us/step - accuracy: 0.8995 - loss: 0.2744 - val_accuracy: 0.8772 - val_loss: 0.3593\n",
      "Epoch 62/100\n",
      "\u001b[1m852/852\u001b[0m \u001b[32m━━━━━━━━━━━━━━━━━━━━\u001b[0m\u001b[37m\u001b[0m \u001b[1m1s\u001b[0m 896us/step - accuracy: 0.9010 - loss: 0.2740 - val_accuracy: 0.8778 - val_loss: 0.3606\n",
      "Epoch 63/100\n",
      "\u001b[1m852/852\u001b[0m \u001b[32m━━━━━━━━━━━━━━━━━━━━\u001b[0m\u001b[37m\u001b[0m \u001b[1m1s\u001b[0m 979us/step - accuracy: 0.9004 - loss: 0.2736 - val_accuracy: 0.8781 - val_loss: 0.3610\n",
      "Epoch 64/100\n",
      "\u001b[1m852/852\u001b[0m \u001b[32m━━━━━━━━━━━━━━━━━━━━\u001b[0m\u001b[37m\u001b[0m \u001b[1m1s\u001b[0m 1ms/step - accuracy: 0.9012 - loss: 0.2732 - val_accuracy: 0.8785 - val_loss: 0.3613\n",
      "Epoch 65/100\n",
      "\u001b[1m852/852\u001b[0m \u001b[32m━━━━━━━━━━━━━━━━━━━━\u001b[0m\u001b[37m\u001b[0m \u001b[1m1s\u001b[0m 957us/step - accuracy: 0.9003 - loss: 0.2732 - val_accuracy: 0.8782 - val_loss: 0.3621\n",
      "Epoch 66/100\n",
      "\u001b[1m852/852\u001b[0m \u001b[32m━━━━━━━━━━━━━━━━━━━━\u001b[0m\u001b[37m\u001b[0m \u001b[1m1s\u001b[0m 961us/step - accuracy: 0.9004 - loss: 0.2727 - val_accuracy: 0.8778 - val_loss: 0.3629\n",
      "Epoch 67/100\n",
      "\u001b[1m852/852\u001b[0m \u001b[32m━━━━━━━━━━━━━━━━━━━━\u001b[0m\u001b[37m\u001b[0m \u001b[1m1s\u001b[0m 921us/step - accuracy: 0.9005 - loss: 0.2723 - val_accuracy: 0.8772 - val_loss: 0.3631\n",
      "Epoch 68/100\n",
      "\u001b[1m852/852\u001b[0m \u001b[32m━━━━━━━━━━━━━━━━━━━━\u001b[0m\u001b[37m\u001b[0m \u001b[1m1s\u001b[0m 937us/step - accuracy: 0.9006 - loss: 0.2722 - val_accuracy: 0.8771 - val_loss: 0.3642\n",
      "Epoch 69/100\n",
      "\u001b[1m852/852\u001b[0m \u001b[32m━━━━━━━━━━━━━━━━━━━━\u001b[0m\u001b[37m\u001b[0m \u001b[1m1s\u001b[0m 924us/step - accuracy: 0.9011 - loss: 0.2721 - val_accuracy: 0.8767 - val_loss: 0.3647\n",
      "Epoch 70/100\n",
      "\u001b[1m852/852\u001b[0m \u001b[32m━━━━━━━━━━━━━━━━━━━━\u001b[0m\u001b[37m\u001b[0m \u001b[1m1s\u001b[0m 922us/step - accuracy: 0.9008 - loss: 0.2716 - val_accuracy: 0.8777 - val_loss: 0.3649\n",
      "Epoch 71/100\n",
      "\u001b[1m852/852\u001b[0m \u001b[32m━━━━━━━━━━━━━━━━━━━━\u001b[0m\u001b[37m\u001b[0m \u001b[1m1s\u001b[0m 914us/step - accuracy: 0.9013 - loss: 0.2716 - val_accuracy: 0.8762 - val_loss: 0.3672\n",
      "Epoch 72/100\n",
      "\u001b[1m852/852\u001b[0m \u001b[32m━━━━━━━━━━━━━━━━━━━━\u001b[0m\u001b[37m\u001b[0m \u001b[1m1s\u001b[0m 925us/step - accuracy: 0.9014 - loss: 0.2710 - val_accuracy: 0.8766 - val_loss: 0.3677\n",
      "Epoch 73/100\n",
      "\u001b[1m852/852\u001b[0m \u001b[32m━━━━━━━━━━━━━━━━━━━━\u001b[0m\u001b[37m\u001b[0m \u001b[1m1s\u001b[0m 914us/step - accuracy: 0.9015 - loss: 0.2707 - val_accuracy: 0.8753 - val_loss: 0.3681\n",
      "Epoch 74/100\n",
      "\u001b[1m852/852\u001b[0m \u001b[32m━━━━━━━━━━━━━━━━━━━━\u001b[0m\u001b[37m\u001b[0m \u001b[1m1s\u001b[0m 906us/step - accuracy: 0.9021 - loss: 0.2703 - val_accuracy: 0.8758 - val_loss: 0.3685\n",
      "Epoch 75/100\n",
      "\u001b[1m852/852\u001b[0m \u001b[32m━━━━━━━━━━━━━━━━━━━━\u001b[0m\u001b[37m\u001b[0m \u001b[1m1s\u001b[0m 928us/step - accuracy: 0.9026 - loss: 0.2704 - val_accuracy: 0.8746 - val_loss: 0.3697\n",
      "Epoch 76/100\n",
      "\u001b[1m852/852\u001b[0m \u001b[32m━━━━━━━━━━━━━━━━━━━━\u001b[0m\u001b[37m\u001b[0m \u001b[1m1s\u001b[0m 886us/step - accuracy: 0.9030 - loss: 0.2700 - val_accuracy: 0.8750 - val_loss: 0.3706\n",
      "Epoch 77/100\n",
      "\u001b[1m852/852\u001b[0m \u001b[32m━━━━━━━━━━━━━━━━━━━━\u001b[0m\u001b[37m\u001b[0m \u001b[1m1s\u001b[0m 932us/step - accuracy: 0.9029 - loss: 0.2695 - val_accuracy: 0.8752 - val_loss: 0.3707\n",
      "Epoch 78/100\n",
      "\u001b[1m852/852\u001b[0m \u001b[32m━━━━━━━━━━━━━━━━━━━━\u001b[0m\u001b[37m\u001b[0m \u001b[1m1s\u001b[0m 916us/step - accuracy: 0.9031 - loss: 0.2696 - val_accuracy: 0.8749 - val_loss: 0.3713\n",
      "Epoch 79/100\n",
      "\u001b[1m852/852\u001b[0m \u001b[32m━━━━━━━━━━━━━━━━━━━━\u001b[0m\u001b[37m\u001b[0m \u001b[1m1s\u001b[0m 940us/step - accuracy: 0.9025 - loss: 0.2690 - val_accuracy: 0.8747 - val_loss: 0.3724\n",
      "Epoch 80/100\n",
      "\u001b[1m852/852\u001b[0m \u001b[32m━━━━━━━━━━━━━━━━━━━━\u001b[0m\u001b[37m\u001b[0m \u001b[1m1s\u001b[0m 895us/step - accuracy: 0.9035 - loss: 0.2686 - val_accuracy: 0.8748 - val_loss: 0.3734\n",
      "Epoch 81/100\n",
      "\u001b[1m852/852\u001b[0m \u001b[32m━━━━━━━━━━━━━━━━━━━━\u001b[0m\u001b[37m\u001b[0m \u001b[1m1s\u001b[0m 942us/step - accuracy: 0.9033 - loss: 0.2682 - val_accuracy: 0.8748 - val_loss: 0.3746\n",
      "Epoch 82/100\n",
      "\u001b[1m852/852\u001b[0m \u001b[32m━━━━━━━━━━━━━━━━━━━━\u001b[0m\u001b[37m\u001b[0m \u001b[1m1s\u001b[0m 941us/step - accuracy: 0.9036 - loss: 0.2678 - val_accuracy: 0.8748 - val_loss: 0.3745\n",
      "Epoch 83/100\n",
      "\u001b[1m852/852\u001b[0m \u001b[32m━━━━━━━━━━━━━━━━━━━━\u001b[0m\u001b[37m\u001b[0m \u001b[1m1s\u001b[0m 947us/step - accuracy: 0.9037 - loss: 0.2675 - val_accuracy: 0.8750 - val_loss: 0.3757\n",
      "Epoch 84/100\n",
      "\u001b[1m852/852\u001b[0m \u001b[32m━━━━━━━━━━━━━━━━━━━━\u001b[0m\u001b[37m\u001b[0m \u001b[1m1s\u001b[0m 921us/step - accuracy: 0.9035 - loss: 0.2673 - val_accuracy: 0.8747 - val_loss: 0.3762\n",
      "Epoch 85/100\n",
      "\u001b[1m852/852\u001b[0m \u001b[32m━━━━━━━━━━━━━━━━━━━━\u001b[0m\u001b[37m\u001b[0m \u001b[1m1s\u001b[0m 956us/step - accuracy: 0.9044 - loss: 0.2672 - val_accuracy: 0.8736 - val_loss: 0.3769\n",
      "Epoch 86/100\n",
      "\u001b[1m852/852\u001b[0m \u001b[32m━━━━━━━━━━━━━━━━━━━━\u001b[0m\u001b[37m\u001b[0m \u001b[1m1s\u001b[0m 954us/step - accuracy: 0.9042 - loss: 0.2667 - val_accuracy: 0.8741 - val_loss: 0.3786\n",
      "Epoch 87/100\n",
      "\u001b[1m852/852\u001b[0m \u001b[32m━━━━━━━━━━━━━━━━━━━━\u001b[0m\u001b[37m\u001b[0m \u001b[1m1s\u001b[0m 920us/step - accuracy: 0.9048 - loss: 0.2668 - val_accuracy: 0.8744 - val_loss: 0.3782\n",
      "Epoch 88/100\n",
      "\u001b[1m852/852\u001b[0m \u001b[32m━━━━━━━━━━━━━━━━━━━━\u001b[0m\u001b[37m\u001b[0m \u001b[1m1s\u001b[0m 947us/step - accuracy: 0.9050 - loss: 0.2658 - val_accuracy: 0.8745 - val_loss: 0.3787\n",
      "Epoch 89/100\n",
      "\u001b[1m852/852\u001b[0m \u001b[32m━━━━━━━━━━━━━━━━━━━━\u001b[0m\u001b[37m\u001b[0m \u001b[1m1s\u001b[0m 921us/step - accuracy: 0.9051 - loss: 0.2660 - val_accuracy: 0.8731 - val_loss: 0.3802\n",
      "Epoch 90/100\n",
      "\u001b[1m852/852\u001b[0m \u001b[32m━━━━━━━━━━━━━━━━━━━━\u001b[0m\u001b[37m\u001b[0m \u001b[1m1s\u001b[0m 1ms/step - accuracy: 0.9043 - loss: 0.2662 - val_accuracy: 0.8742 - val_loss: 0.3804\n",
      "Epoch 91/100\n",
      "\u001b[1m852/852\u001b[0m \u001b[32m━━━━━━━━━━━━━━━━━━━━\u001b[0m\u001b[37m\u001b[0m \u001b[1m1s\u001b[0m 957us/step - accuracy: 0.9043 - loss: 0.2654 - val_accuracy: 0.8737 - val_loss: 0.3812\n",
      "Epoch 92/100\n",
      "\u001b[1m852/852\u001b[0m \u001b[32m━━━━━━━━━━━━━━━━━━━━\u001b[0m\u001b[37m\u001b[0m \u001b[1m1s\u001b[0m 1ms/step - accuracy: 0.9050 - loss: 0.2650 - val_accuracy: 0.8742 - val_loss: 0.3814\n",
      "Epoch 93/100\n",
      "\u001b[1m852/852\u001b[0m \u001b[32m━━━━━━━━━━━━━━━━━━━━\u001b[0m\u001b[37m\u001b[0m \u001b[1m1s\u001b[0m 946us/step - accuracy: 0.9047 - loss: 0.2647 - val_accuracy: 0.8739 - val_loss: 0.3835\n",
      "Epoch 94/100\n",
      "\u001b[1m852/852\u001b[0m \u001b[32m━━━━━━━━━━━━━━━━━━━━\u001b[0m\u001b[37m\u001b[0m \u001b[1m1s\u001b[0m 914us/step - accuracy: 0.9048 - loss: 0.2647 - val_accuracy: 0.8749 - val_loss: 0.3838\n",
      "Epoch 95/100\n",
      "\u001b[1m852/852\u001b[0m \u001b[32m━━━━━━━━━━━━━━━━━━━━\u001b[0m\u001b[37m\u001b[0m \u001b[1m1s\u001b[0m 962us/step - accuracy: 0.9039 - loss: 0.2644 - val_accuracy: 0.8743 - val_loss: 0.3841\n",
      "Epoch 96/100\n",
      "\u001b[1m852/852\u001b[0m \u001b[32m━━━━━━━━━━━━━━━━━━━━\u001b[0m\u001b[37m\u001b[0m \u001b[1m1s\u001b[0m 973us/step - accuracy: 0.9048 - loss: 0.2639 - val_accuracy: 0.8739 - val_loss: 0.3854\n",
      "Epoch 97/100\n",
      "\u001b[1m852/852\u001b[0m \u001b[32m━━━━━━━━━━━━━━━━━━━━\u001b[0m\u001b[37m\u001b[0m \u001b[1m1s\u001b[0m 992us/step - accuracy: 0.9050 - loss: 0.2641 - val_accuracy: 0.8737 - val_loss: 0.3850\n",
      "Epoch 98/100\n",
      "\u001b[1m852/852\u001b[0m \u001b[32m━━━━━━━━━━━━━━━━━━━━\u001b[0m\u001b[37m\u001b[0m \u001b[1m1s\u001b[0m 968us/step - accuracy: 0.9046 - loss: 0.2639 - val_accuracy: 0.8737 - val_loss: 0.3870\n",
      "Epoch 99/100\n",
      "\u001b[1m852/852\u001b[0m \u001b[32m━━━━━━━━━━━━━━━━━━━━\u001b[0m\u001b[37m\u001b[0m \u001b[1m1s\u001b[0m 954us/step - accuracy: 0.9053 - loss: 0.2637 - val_accuracy: 0.8731 - val_loss: 0.3879\n",
      "Epoch 100/100\n",
      "\u001b[1m852/852\u001b[0m \u001b[32m━━━━━━━━━━━━━━━━━━━━\u001b[0m\u001b[37m\u001b[0m \u001b[1m1s\u001b[0m 968us/step - accuracy: 0.9047 - loss: 0.2634 - val_accuracy: 0.8729 - val_loss: 0.3871\n",
      "Epoch 1/100\n",
      "\u001b[1m852/852\u001b[0m \u001b[32m━━━━━━━━━━━━━━━━━━━━\u001b[0m\u001b[37m\u001b[0m \u001b[1m2s\u001b[0m 1ms/step - accuracy: 0.8001 - loss: 0.5269 - val_accuracy: 0.8733 - val_loss: 0.3548\n",
      "Epoch 2/100\n",
      "\u001b[1m852/852\u001b[0m \u001b[32m━━━━━━━━━━━━━━━━━━━━\u001b[0m\u001b[37m\u001b[0m \u001b[1m1s\u001b[0m 951us/step - accuracy: 0.8769 - loss: 0.3441 - val_accuracy: 0.8785 - val_loss: 0.3399\n",
      "Epoch 3/100\n",
      "\u001b[1m852/852\u001b[0m \u001b[32m━━━━━━━━━━━━━━━━━━━━\u001b[0m\u001b[37m\u001b[0m \u001b[1m1s\u001b[0m 937us/step - accuracy: 0.8803 - loss: 0.3317 - val_accuracy: 0.8798 - val_loss: 0.3347\n",
      "Epoch 4/100\n",
      "\u001b[1m852/852\u001b[0m \u001b[32m━━━━━━━━━━━━━━━━━━━━\u001b[0m\u001b[37m\u001b[0m \u001b[1m1s\u001b[0m 1ms/step - accuracy: 0.8813 - loss: 0.3252 - val_accuracy: 0.8805 - val_loss: 0.3323\n",
      "Epoch 5/100\n",
      "\u001b[1m852/852\u001b[0m \u001b[32m━━━━━━━━━━━━━━━━━━━━\u001b[0m\u001b[37m\u001b[0m \u001b[1m1s\u001b[0m 1ms/step - accuracy: 0.8820 - loss: 0.3210 - val_accuracy: 0.8814 - val_loss: 0.3311\n",
      "Epoch 6/100\n",
      "\u001b[1m852/852\u001b[0m \u001b[32m━━━━━━━━━━━━━━━━━━━━\u001b[0m\u001b[37m\u001b[0m \u001b[1m1s\u001b[0m 988us/step - accuracy: 0.8844 - loss: 0.3179 - val_accuracy: 0.8810 - val_loss: 0.3305\n",
      "Epoch 7/100\n",
      "\u001b[1m852/852\u001b[0m \u001b[32m━━━━━━━━━━━━━━━━━━━━\u001b[0m\u001b[37m\u001b[0m \u001b[1m1s\u001b[0m 998us/step - accuracy: 0.8856 - loss: 0.3155 - val_accuracy: 0.8809 - val_loss: 0.3302\n",
      "Epoch 8/100\n",
      "\u001b[1m852/852\u001b[0m \u001b[32m━━━━━━━━━━━━━━━━━━━━\u001b[0m\u001b[37m\u001b[0m \u001b[1m1s\u001b[0m 1ms/step - accuracy: 0.8870 - loss: 0.3136 - val_accuracy: 0.8797 - val_loss: 0.3301\n",
      "Epoch 9/100\n",
      "\u001b[1m852/852\u001b[0m \u001b[32m━━━━━━━━━━━━━━━━━━━━\u001b[0m\u001b[37m\u001b[0m \u001b[1m1s\u001b[0m 947us/step - accuracy: 0.8879 - loss: 0.3118 - val_accuracy: 0.8803 - val_loss: 0.3300\n",
      "Epoch 10/100\n",
      "\u001b[1m852/852\u001b[0m \u001b[32m━━━━━━━━━━━━━━━━━━━━\u001b[0m\u001b[37m\u001b[0m \u001b[1m1s\u001b[0m 959us/step - accuracy: 0.8883 - loss: 0.3102 - val_accuracy: 0.8808 - val_loss: 0.3301\n",
      "Epoch 11/100\n",
      "\u001b[1m852/852\u001b[0m \u001b[32m━━━━━━━━━━━━━━━━━━━━\u001b[0m\u001b[37m\u001b[0m \u001b[1m1s\u001b[0m 934us/step - accuracy: 0.8894 - loss: 0.3089 - val_accuracy: 0.8812 - val_loss: 0.3302\n",
      "Epoch 12/100\n",
      "\u001b[1m852/852\u001b[0m \u001b[32m━━━━━━━━━━━━━━━━━━━━\u001b[0m\u001b[37m\u001b[0m \u001b[1m1s\u001b[0m 930us/step - accuracy: 0.8897 - loss: 0.3074 - val_accuracy: 0.8815 - val_loss: 0.3304\n",
      "Epoch 13/100\n",
      "\u001b[1m852/852\u001b[0m \u001b[32m━━━━━━━━━━━━━━━━━━━━\u001b[0m\u001b[37m\u001b[0m \u001b[1m1s\u001b[0m 924us/step - accuracy: 0.8903 - loss: 0.3062 - val_accuracy: 0.8814 - val_loss: 0.3306\n",
      "Epoch 14/100\n",
      "\u001b[1m852/852\u001b[0m \u001b[32m━━━━━━━━━━━━━━━━━━━━\u001b[0m\u001b[37m\u001b[0m \u001b[1m1s\u001b[0m 955us/step - accuracy: 0.8903 - loss: 0.3048 - val_accuracy: 0.8814 - val_loss: 0.3311\n",
      "Epoch 15/100\n",
      "\u001b[1m852/852\u001b[0m \u001b[32m━━━━━━━━━━━━━━━━━━━━\u001b[0m\u001b[37m\u001b[0m \u001b[1m1s\u001b[0m 962us/step - accuracy: 0.8907 - loss: 0.3037 - val_accuracy: 0.8817 - val_loss: 0.3314\n",
      "Epoch 16/100\n",
      "\u001b[1m852/852\u001b[0m \u001b[32m━━━━━━━━━━━━━━━━━━━━\u001b[0m\u001b[37m\u001b[0m \u001b[1m1s\u001b[0m 927us/step - accuracy: 0.8907 - loss: 0.3025 - val_accuracy: 0.8814 - val_loss: 0.3319\n",
      "Epoch 17/100\n",
      "\u001b[1m852/852\u001b[0m \u001b[32m━━━━━━━━━━━━━━━━━━━━\u001b[0m\u001b[37m\u001b[0m \u001b[1m1s\u001b[0m 941us/step - accuracy: 0.8903 - loss: 0.3015 - val_accuracy: 0.8811 - val_loss: 0.3326\n",
      "Epoch 18/100\n",
      "\u001b[1m852/852\u001b[0m \u001b[32m━━━━━━━━━━━━━━━━━━━━\u001b[0m\u001b[37m\u001b[0m \u001b[1m1s\u001b[0m 940us/step - accuracy: 0.8903 - loss: 0.3006 - val_accuracy: 0.8808 - val_loss: 0.3335\n",
      "Epoch 19/100\n",
      "\u001b[1m852/852\u001b[0m \u001b[32m━━━━━━━━━━━━━━━━━━━━\u001b[0m\u001b[37m\u001b[0m \u001b[1m1s\u001b[0m 940us/step - accuracy: 0.8920 - loss: 0.2994 - val_accuracy: 0.8800 - val_loss: 0.3342\n",
      "Epoch 20/100\n",
      "\u001b[1m852/852\u001b[0m \u001b[32m━━━━━━━━━━━━━━━━━━━━\u001b[0m\u001b[37m\u001b[0m \u001b[1m1s\u001b[0m 926us/step - accuracy: 0.8922 - loss: 0.2985 - val_accuracy: 0.8800 - val_loss: 0.3351\n",
      "Epoch 21/100\n",
      "\u001b[1m852/852\u001b[0m \u001b[32m━━━━━━━━━━━━━━━━━━━━\u001b[0m\u001b[37m\u001b[0m \u001b[1m1s\u001b[0m 942us/step - accuracy: 0.8920 - loss: 0.2977 - val_accuracy: 0.8802 - val_loss: 0.3357\n",
      "Epoch 22/100\n",
      "\u001b[1m852/852\u001b[0m \u001b[32m━━━━━━━━━━━━━━━━━━━━\u001b[0m\u001b[37m\u001b[0m \u001b[1m1s\u001b[0m 1ms/step - accuracy: 0.8918 - loss: 0.2969 - val_accuracy: 0.8797 - val_loss: 0.3364\n",
      "Epoch 23/100\n",
      "\u001b[1m852/852\u001b[0m \u001b[32m━━━━━━━━━━━━━━━━━━━━\u001b[0m\u001b[37m\u001b[0m \u001b[1m1s\u001b[0m 1ms/step - accuracy: 0.8923 - loss: 0.2962 - val_accuracy: 0.8792 - val_loss: 0.3373\n",
      "Epoch 24/100\n",
      "\u001b[1m852/852\u001b[0m \u001b[32m━━━━━━━━━━━━━━━━━━━━\u001b[0m\u001b[37m\u001b[0m \u001b[1m1s\u001b[0m 983us/step - accuracy: 0.8931 - loss: 0.2956 - val_accuracy: 0.8794 - val_loss: 0.3380\n",
      "Epoch 25/100\n",
      "\u001b[1m852/852\u001b[0m \u001b[32m━━━━━━━━━━━━━━━━━━━━\u001b[0m\u001b[37m\u001b[0m \u001b[1m1s\u001b[0m 1ms/step - accuracy: 0.8934 - loss: 0.2949 - val_accuracy: 0.8787 - val_loss: 0.3388\n",
      "Epoch 26/100\n",
      "\u001b[1m852/852\u001b[0m \u001b[32m━━━━━━━━━━━━━━━━━━━━\u001b[0m\u001b[37m\u001b[0m \u001b[1m1s\u001b[0m 1ms/step - accuracy: 0.8938 - loss: 0.2940 - val_accuracy: 0.8778 - val_loss: 0.3396\n",
      "Epoch 27/100\n",
      "\u001b[1m852/852\u001b[0m \u001b[32m━━━━━━━━━━━━━━━━━━━━\u001b[0m\u001b[37m\u001b[0m \u001b[1m1s\u001b[0m 904us/step - accuracy: 0.8936 - loss: 0.2932 - val_accuracy: 0.8781 - val_loss: 0.3402\n",
      "Epoch 28/100\n",
      "\u001b[1m852/852\u001b[0m \u001b[32m━━━━━━━━━━━━━━━━━━━━\u001b[0m\u001b[37m\u001b[0m \u001b[1m1s\u001b[0m 974us/step - accuracy: 0.8937 - loss: 0.2924 - val_accuracy: 0.8782 - val_loss: 0.3407\n",
      "Epoch 29/100\n",
      "\u001b[1m852/852\u001b[0m \u001b[32m━━━━━━━━━━━━━━━━━━━━\u001b[0m\u001b[37m\u001b[0m \u001b[1m1s\u001b[0m 998us/step - accuracy: 0.8935 - loss: 0.2918 - val_accuracy: 0.8775 - val_loss: 0.3417\n",
      "Epoch 30/100\n",
      "\u001b[1m852/852\u001b[0m \u001b[32m━━━━━━━━━━━━━━━━━━━━\u001b[0m\u001b[37m\u001b[0m \u001b[1m1s\u001b[0m 1ms/step - accuracy: 0.8936 - loss: 0.2912 - val_accuracy: 0.8770 - val_loss: 0.3424\n",
      "Epoch 31/100\n",
      "\u001b[1m852/852\u001b[0m \u001b[32m━━━━━━━━━━━━━━━━━━━━\u001b[0m\u001b[37m\u001b[0m \u001b[1m1s\u001b[0m 967us/step - accuracy: 0.8933 - loss: 0.2905 - val_accuracy: 0.8775 - val_loss: 0.3426\n",
      "Epoch 32/100\n",
      "\u001b[1m852/852\u001b[0m \u001b[32m━━━━━━━━━━━━━━━━━━━━\u001b[0m\u001b[37m\u001b[0m \u001b[1m1s\u001b[0m 1ms/step - accuracy: 0.8933 - loss: 0.2899 - val_accuracy: 0.8771 - val_loss: 0.3434\n",
      "Epoch 33/100\n",
      "\u001b[1m852/852\u001b[0m \u001b[32m━━━━━━━━━━━━━━━━━━━━\u001b[0m\u001b[37m\u001b[0m \u001b[1m1s\u001b[0m 1ms/step - accuracy: 0.8937 - loss: 0.2893 - val_accuracy: 0.8767 - val_loss: 0.3440\n",
      "Epoch 34/100\n",
      "\u001b[1m852/852\u001b[0m \u001b[32m━━━━━━━━━━━━━━━━━━━━\u001b[0m\u001b[37m\u001b[0m \u001b[1m1s\u001b[0m 1ms/step - accuracy: 0.8942 - loss: 0.2886 - val_accuracy: 0.8759 - val_loss: 0.3447\n",
      "Epoch 35/100\n",
      "\u001b[1m852/852\u001b[0m \u001b[32m━━━━━━━━━━━━━━━━━━━━\u001b[0m\u001b[37m\u001b[0m \u001b[1m1s\u001b[0m 1ms/step - accuracy: 0.8942 - loss: 0.2881 - val_accuracy: 0.8758 - val_loss: 0.3453\n",
      "Epoch 36/100\n",
      "\u001b[1m852/852\u001b[0m \u001b[32m━━━━━━━━━━━━━━━━━━━━\u001b[0m\u001b[37m\u001b[0m \u001b[1m1s\u001b[0m 1ms/step - accuracy: 0.8951 - loss: 0.2877 - val_accuracy: 0.8756 - val_loss: 0.3457\n",
      "Epoch 37/100\n",
      "\u001b[1m852/852\u001b[0m \u001b[32m━━━━━━━━━━━━━━━━━━━━\u001b[0m\u001b[37m\u001b[0m \u001b[1m1s\u001b[0m 1ms/step - accuracy: 0.8949 - loss: 0.2873 - val_accuracy: 0.8755 - val_loss: 0.3467\n",
      "Epoch 38/100\n",
      "\u001b[1m852/852\u001b[0m \u001b[32m━━━━━━━━━━━━━━━━━━━━\u001b[0m\u001b[37m\u001b[0m \u001b[1m1s\u001b[0m 1ms/step - accuracy: 0.8955 - loss: 0.2866 - val_accuracy: 0.8756 - val_loss: 0.3470\n",
      "Epoch 39/100\n",
      "\u001b[1m852/852\u001b[0m \u001b[32m━━━━━━━━━━━━━━━━━━━━\u001b[0m\u001b[37m\u001b[0m \u001b[1m1s\u001b[0m 1ms/step - accuracy: 0.8958 - loss: 0.2861 - val_accuracy: 0.8759 - val_loss: 0.3476\n",
      "Epoch 40/100\n",
      "\u001b[1m852/852\u001b[0m \u001b[32m━━━━━━━━━━━━━━━━━━━━\u001b[0m\u001b[37m\u001b[0m \u001b[1m1s\u001b[0m 1ms/step - accuracy: 0.8959 - loss: 0.2856 - val_accuracy: 0.8756 - val_loss: 0.3484\n",
      "Epoch 41/100\n",
      "\u001b[1m852/852\u001b[0m \u001b[32m━━━━━━━━━━━━━━━━━━━━\u001b[0m\u001b[37m\u001b[0m \u001b[1m1s\u001b[0m 1ms/step - accuracy: 0.8962 - loss: 0.2851 - val_accuracy: 0.8756 - val_loss: 0.3491\n",
      "Epoch 42/100\n",
      "\u001b[1m852/852\u001b[0m \u001b[32m━━━━━━━━━━━━━━━━━━━━\u001b[0m\u001b[37m\u001b[0m \u001b[1m1s\u001b[0m 994us/step - accuracy: 0.8967 - loss: 0.2848 - val_accuracy: 0.8764 - val_loss: 0.3496\n",
      "Epoch 43/100\n",
      "\u001b[1m852/852\u001b[0m \u001b[32m━━━━━━━━━━━━━━━━━━━━\u001b[0m\u001b[37m\u001b[0m \u001b[1m1s\u001b[0m 1ms/step - accuracy: 0.8967 - loss: 0.2843 - val_accuracy: 0.8761 - val_loss: 0.3503\n",
      "Epoch 44/100\n",
      "\u001b[1m852/852\u001b[0m \u001b[32m━━━━━━━━━━━━━━━━━━━━\u001b[0m\u001b[37m\u001b[0m \u001b[1m1s\u001b[0m 1ms/step - accuracy: 0.8967 - loss: 0.2840 - val_accuracy: 0.8765 - val_loss: 0.3510\n",
      "Epoch 45/100\n",
      "\u001b[1m852/852\u001b[0m \u001b[32m━━━━━━━━━━━━━━━━━━━━\u001b[0m\u001b[37m\u001b[0m \u001b[1m1s\u001b[0m 948us/step - accuracy: 0.8971 - loss: 0.2834 - val_accuracy: 0.8764 - val_loss: 0.3517\n",
      "Epoch 46/100\n",
      "\u001b[1m852/852\u001b[0m \u001b[32m━━━━━━━━━━━━━━━━━━━━\u001b[0m\u001b[37m\u001b[0m \u001b[1m1s\u001b[0m 1ms/step - accuracy: 0.8973 - loss: 0.2831 - val_accuracy: 0.8759 - val_loss: 0.3524\n",
      "Epoch 47/100\n",
      "\u001b[1m852/852\u001b[0m \u001b[32m━━━━━━━━━━━━━━━━━━━━\u001b[0m\u001b[37m\u001b[0m \u001b[1m1s\u001b[0m 1ms/step - accuracy: 0.8974 - loss: 0.2827 - val_accuracy: 0.8759 - val_loss: 0.3529\n",
      "Epoch 48/100\n",
      "\u001b[1m852/852\u001b[0m \u001b[32m━━━━━━━━━━━━━━━━━━━━\u001b[0m\u001b[37m\u001b[0m \u001b[1m1s\u001b[0m 959us/step - accuracy: 0.8981 - loss: 0.2825 - val_accuracy: 0.8754 - val_loss: 0.3535\n",
      "Epoch 49/100\n",
      "\u001b[1m852/852\u001b[0m \u001b[32m━━━━━━━━━━━━━━━━━━━━\u001b[0m\u001b[37m\u001b[0m \u001b[1m1s\u001b[0m 1ms/step - accuracy: 0.8983 - loss: 0.2819 - val_accuracy: 0.8753 - val_loss: 0.3544\n",
      "Epoch 50/100\n",
      "\u001b[1m852/852\u001b[0m \u001b[32m━━━━━━━━━━━━━━━━━━━━\u001b[0m\u001b[37m\u001b[0m \u001b[1m1s\u001b[0m 990us/step - accuracy: 0.8983 - loss: 0.2815 - val_accuracy: 0.8759 - val_loss: 0.3551\n",
      "Epoch 51/100\n",
      "\u001b[1m852/852\u001b[0m \u001b[32m━━━━━━━━━━━━━━━━━━━━\u001b[0m\u001b[37m\u001b[0m \u001b[1m1s\u001b[0m 1ms/step - accuracy: 0.8987 - loss: 0.2813 - val_accuracy: 0.8751 - val_loss: 0.3559\n",
      "Epoch 52/100\n",
      "\u001b[1m852/852\u001b[0m \u001b[32m━━━━━━━━━━━━━━━━━━━━\u001b[0m\u001b[37m\u001b[0m \u001b[1m1s\u001b[0m 1ms/step - accuracy: 0.8984 - loss: 0.2809 - val_accuracy: 0.8751 - val_loss: 0.3562\n",
      "Epoch 53/100\n",
      "\u001b[1m852/852\u001b[0m \u001b[32m━━━━━━━━━━━━━━━━━━━━\u001b[0m\u001b[37m\u001b[0m \u001b[1m1s\u001b[0m 1ms/step - accuracy: 0.8984 - loss: 0.2807 - val_accuracy: 0.8751 - val_loss: 0.3567\n",
      "Epoch 54/100\n",
      "\u001b[1m852/852\u001b[0m \u001b[32m━━━━━━━━━━━━━━━━━━━━\u001b[0m\u001b[37m\u001b[0m \u001b[1m1s\u001b[0m 960us/step - accuracy: 0.8991 - loss: 0.2804 - val_accuracy: 0.8749 - val_loss: 0.3573\n",
      "Epoch 55/100\n",
      "\u001b[1m852/852\u001b[0m \u001b[32m━━━━━━━━━━━━━━━━━━━━\u001b[0m\u001b[37m\u001b[0m \u001b[1m1s\u001b[0m 943us/step - accuracy: 0.8997 - loss: 0.2800 - val_accuracy: 0.8746 - val_loss: 0.3577\n",
      "Epoch 56/100\n",
      "\u001b[1m852/852\u001b[0m \u001b[32m━━━━━━━━━━━━━━━━━━━━\u001b[0m\u001b[37m\u001b[0m \u001b[1m1s\u001b[0m 982us/step - accuracy: 0.8997 - loss: 0.2797 - val_accuracy: 0.8747 - val_loss: 0.3585\n",
      "Epoch 57/100\n",
      "\u001b[1m852/852\u001b[0m \u001b[32m━━━━━━━━━━━━━━━━━━━━\u001b[0m\u001b[37m\u001b[0m \u001b[1m1s\u001b[0m 936us/step - accuracy: 0.9002 - loss: 0.2794 - val_accuracy: 0.8744 - val_loss: 0.3591\n",
      "Epoch 58/100\n",
      "\u001b[1m852/852\u001b[0m \u001b[32m━━━━━━━━━━━━━━━━━━━━\u001b[0m\u001b[37m\u001b[0m \u001b[1m1s\u001b[0m 947us/step - accuracy: 0.9006 - loss: 0.2790 - val_accuracy: 0.8739 - val_loss: 0.3593\n",
      "Epoch 59/100\n",
      "\u001b[1m852/852\u001b[0m \u001b[32m━━━━━━━━━━━━━━━━━━━━\u001b[0m\u001b[37m\u001b[0m \u001b[1m1s\u001b[0m 910us/step - accuracy: 0.9009 - loss: 0.2787 - val_accuracy: 0.8745 - val_loss: 0.3598\n",
      "Epoch 60/100\n",
      "\u001b[1m852/852\u001b[0m \u001b[32m━━━━━━━━━━━━━━━━━━━━\u001b[0m\u001b[37m\u001b[0m \u001b[1m1s\u001b[0m 996us/step - accuracy: 0.9003 - loss: 0.2784 - val_accuracy: 0.8740 - val_loss: 0.3608\n",
      "Epoch 61/100\n",
      "\u001b[1m852/852\u001b[0m \u001b[32m━━━━━━━━━━━━━━━━━━━━\u001b[0m\u001b[37m\u001b[0m \u001b[1m1s\u001b[0m 917us/step - accuracy: 0.9003 - loss: 0.2783 - val_accuracy: 0.8742 - val_loss: 0.3612\n",
      "Epoch 62/100\n",
      "\u001b[1m852/852\u001b[0m \u001b[32m━━━━━━━━━━━━━━━━━━━━\u001b[0m\u001b[37m\u001b[0m \u001b[1m1s\u001b[0m 953us/step - accuracy: 0.9006 - loss: 0.2778 - val_accuracy: 0.8745 - val_loss: 0.3615\n",
      "Epoch 63/100\n",
      "\u001b[1m852/852\u001b[0m \u001b[32m━━━━━━━━━━━━━━━━━━━━\u001b[0m\u001b[37m\u001b[0m \u001b[1m1s\u001b[0m 938us/step - accuracy: 0.9002 - loss: 0.2778 - val_accuracy: 0.8742 - val_loss: 0.3620\n",
      "Epoch 64/100\n",
      "\u001b[1m852/852\u001b[0m \u001b[32m━━━━━━━━━━━━━━━━━━━━\u001b[0m\u001b[37m\u001b[0m \u001b[1m1s\u001b[0m 1ms/step - accuracy: 0.9002 - loss: 0.2775 - val_accuracy: 0.8740 - val_loss: 0.3628\n",
      "Epoch 65/100\n",
      "\u001b[1m852/852\u001b[0m \u001b[32m━━━━━━━━━━━━━━━━━━━━\u001b[0m\u001b[37m\u001b[0m \u001b[1m1s\u001b[0m 982us/step - accuracy: 0.8999 - loss: 0.2773 - val_accuracy: 0.8730 - val_loss: 0.3629\n",
      "Epoch 66/100\n",
      "\u001b[1m852/852\u001b[0m \u001b[32m━━━━━━━━━━━━━━━━━━━━\u001b[0m\u001b[37m\u001b[0m \u001b[1m1s\u001b[0m 994us/step - accuracy: 0.9008 - loss: 0.2772 - val_accuracy: 0.8747 - val_loss: 0.3636\n",
      "Epoch 67/100\n",
      "\u001b[1m852/852\u001b[0m \u001b[32m━━━━━━━━━━━━━━━━━━━━\u001b[0m\u001b[37m\u001b[0m \u001b[1m1s\u001b[0m 919us/step - accuracy: 0.9005 - loss: 0.2769 - val_accuracy: 0.8739 - val_loss: 0.3640\n",
      "Epoch 68/100\n",
      "\u001b[1m852/852\u001b[0m \u001b[32m━━━━━━━━━━━━━━━━━━━━\u001b[0m\u001b[37m\u001b[0m \u001b[1m1s\u001b[0m 941us/step - accuracy: 0.8999 - loss: 0.2764 - val_accuracy: 0.8739 - val_loss: 0.3641\n",
      "Epoch 69/100\n",
      "\u001b[1m852/852\u001b[0m \u001b[32m━━━━━━━━━━━━━━━━━━━━\u001b[0m\u001b[37m\u001b[0m \u001b[1m1s\u001b[0m 1ms/step - accuracy: 0.8999 - loss: 0.2765 - val_accuracy: 0.8733 - val_loss: 0.3649\n",
      "Epoch 70/100\n",
      "\u001b[1m852/852\u001b[0m \u001b[32m━━━━━━━━━━━━━━━━━━━━\u001b[0m\u001b[37m\u001b[0m \u001b[1m1s\u001b[0m 1ms/step - accuracy: 0.9006 - loss: 0.2760 - val_accuracy: 0.8727 - val_loss: 0.3652\n",
      "Epoch 71/100\n",
      "\u001b[1m852/852\u001b[0m \u001b[32m━━━━━━━━━━━━━━━━━━━━\u001b[0m\u001b[37m\u001b[0m \u001b[1m1s\u001b[0m 996us/step - accuracy: 0.9005 - loss: 0.2759 - val_accuracy: 0.8737 - val_loss: 0.3660\n",
      "Epoch 72/100\n",
      "\u001b[1m852/852\u001b[0m \u001b[32m━━━━━━━━━━━━━━━━━━━━\u001b[0m\u001b[37m\u001b[0m \u001b[1m1s\u001b[0m 1ms/step - accuracy: 0.9003 - loss: 0.2755 - val_accuracy: 0.8734 - val_loss: 0.3662\n",
      "Epoch 73/100\n",
      "\u001b[1m852/852\u001b[0m \u001b[32m━━━━━━━━━━━━━━━━━━━━\u001b[0m\u001b[37m\u001b[0m \u001b[1m1s\u001b[0m 1ms/step - accuracy: 0.9002 - loss: 0.2754 - val_accuracy: 0.8731 - val_loss: 0.3666\n",
      "Epoch 74/100\n",
      "\u001b[1m852/852\u001b[0m \u001b[32m━━━━━━━━━━━━━━━━━━━━\u001b[0m\u001b[37m\u001b[0m \u001b[1m1s\u001b[0m 1ms/step - accuracy: 0.9000 - loss: 0.2751 - val_accuracy: 0.8724 - val_loss: 0.3673\n",
      "Epoch 75/100\n",
      "\u001b[1m852/852\u001b[0m \u001b[32m━━━━━━━━━━━━━━━━━━━━\u001b[0m\u001b[37m\u001b[0m \u001b[1m1s\u001b[0m 1ms/step - accuracy: 0.9001 - loss: 0.2748 - val_accuracy: 0.8729 - val_loss: 0.3675\n",
      "Epoch 76/100\n",
      "\u001b[1m852/852\u001b[0m \u001b[32m━━━━━━━━━━━━━━━━━━━━\u001b[0m\u001b[37m\u001b[0m \u001b[1m1s\u001b[0m 1ms/step - accuracy: 0.9001 - loss: 0.2745 - val_accuracy: 0.8726 - val_loss: 0.3681\n",
      "Epoch 77/100\n",
      "\u001b[1m852/852\u001b[0m \u001b[32m━━━━━━━━━━━━━━━━━━━━\u001b[0m\u001b[37m\u001b[0m \u001b[1m1s\u001b[0m 1ms/step - accuracy: 0.9002 - loss: 0.2745 - val_accuracy: 0.8727 - val_loss: 0.3686\n",
      "Epoch 78/100\n",
      "\u001b[1m852/852\u001b[0m \u001b[32m━━━━━━━━━━━━━━━━━━━━\u001b[0m\u001b[37m\u001b[0m \u001b[1m1s\u001b[0m 964us/step - accuracy: 0.8996 - loss: 0.2743 - val_accuracy: 0.8718 - val_loss: 0.3685\n",
      "Epoch 79/100\n",
      "\u001b[1m852/852\u001b[0m \u001b[32m━━━━━━━━━━━━━━━━━━━━\u001b[0m\u001b[37m\u001b[0m \u001b[1m1s\u001b[0m 1ms/step - accuracy: 0.9004 - loss: 0.2736 - val_accuracy: 0.8718 - val_loss: 0.3687\n",
      "Epoch 80/100\n",
      "\u001b[1m852/852\u001b[0m \u001b[32m━━━━━━━━━━━━━━━━━━━━\u001b[0m\u001b[37m\u001b[0m \u001b[1m1s\u001b[0m 1ms/step - accuracy: 0.9005 - loss: 0.2734 - val_accuracy: 0.8714 - val_loss: 0.3695\n",
      "Epoch 81/100\n",
      "\u001b[1m852/852\u001b[0m \u001b[32m━━━━━━━━━━━━━━━━━━━━\u001b[0m\u001b[37m\u001b[0m \u001b[1m1s\u001b[0m 1ms/step - accuracy: 0.9003 - loss: 0.2733 - val_accuracy: 0.8717 - val_loss: 0.3698\n",
      "Epoch 82/100\n",
      "\u001b[1m852/852\u001b[0m \u001b[32m━━━━━━━━━━━━━━━━━━━━\u001b[0m\u001b[37m\u001b[0m \u001b[1m1s\u001b[0m 1ms/step - accuracy: 0.9005 - loss: 0.2732 - val_accuracy: 0.8715 - val_loss: 0.3701\n",
      "Epoch 83/100\n",
      "\u001b[1m852/852\u001b[0m \u001b[32m━━━━━━━━━━━━━━━━━━━━\u001b[0m\u001b[37m\u001b[0m \u001b[1m1s\u001b[0m 1ms/step - accuracy: 0.9002 - loss: 0.2728 - val_accuracy: 0.8715 - val_loss: 0.3707\n",
      "Epoch 84/100\n",
      "\u001b[1m852/852\u001b[0m \u001b[32m━━━━━━━━━━━━━━━━━━━━\u001b[0m\u001b[37m\u001b[0m \u001b[1m1s\u001b[0m 963us/step - accuracy: 0.8994 - loss: 0.2729 - val_accuracy: 0.8710 - val_loss: 0.3712\n",
      "Epoch 85/100\n",
      "\u001b[1m852/852\u001b[0m \u001b[32m━━━━━━━━━━━━━━━━━━━━\u001b[0m\u001b[37m\u001b[0m \u001b[1m1s\u001b[0m 1ms/step - accuracy: 0.8999 - loss: 0.2723 - val_accuracy: 0.8718 - val_loss: 0.3714\n",
      "Epoch 86/100\n",
      "\u001b[1m852/852\u001b[0m \u001b[32m━━━━━━━━━━━━━━━━━━━━\u001b[0m\u001b[37m\u001b[0m \u001b[1m1s\u001b[0m 1ms/step - accuracy: 0.9004 - loss: 0.2720 - val_accuracy: 0.8719 - val_loss: 0.3717\n",
      "Epoch 87/100\n",
      "\u001b[1m852/852\u001b[0m \u001b[32m━━━━━━━━━━━━━━━━━━━━\u001b[0m\u001b[37m\u001b[0m \u001b[1m1s\u001b[0m 974us/step - accuracy: 0.8995 - loss: 0.2719 - val_accuracy: 0.8717 - val_loss: 0.3718\n",
      "Epoch 88/100\n",
      "\u001b[1m852/852\u001b[0m \u001b[32m━━━━━━━━━━━━━━━━━━━━\u001b[0m\u001b[37m\u001b[0m \u001b[1m1s\u001b[0m 948us/step - accuracy: 0.8989 - loss: 0.2716 - val_accuracy: 0.8714 - val_loss: 0.3729\n",
      "Epoch 89/100\n",
      "\u001b[1m852/852\u001b[0m \u001b[32m━━━━━━━━━━━━━━━━━━━━\u001b[0m\u001b[37m\u001b[0m \u001b[1m1s\u001b[0m 1ms/step - accuracy: 0.8987 - loss: 0.2715 - val_accuracy: 0.8720 - val_loss: 0.3733\n",
      "Epoch 90/100\n",
      "\u001b[1m852/852\u001b[0m \u001b[32m━━━━━━━━━━━━━━━━━━━━\u001b[0m\u001b[37m\u001b[0m \u001b[1m1s\u001b[0m 982us/step - accuracy: 0.8990 - loss: 0.2713 - val_accuracy: 0.8717 - val_loss: 0.3731\n",
      "Epoch 91/100\n",
      "\u001b[1m852/852\u001b[0m \u001b[32m━━━━━━━━━━━━━━━━━━━━\u001b[0m\u001b[37m\u001b[0m \u001b[1m1s\u001b[0m 990us/step - accuracy: 0.8999 - loss: 0.2710 - val_accuracy: 0.8718 - val_loss: 0.3741\n",
      "Epoch 92/100\n",
      "\u001b[1m852/852\u001b[0m \u001b[32m━━━━━━━━━━━━━━━━━━━━\u001b[0m\u001b[37m\u001b[0m \u001b[1m1s\u001b[0m 997us/step - accuracy: 0.8995 - loss: 0.2710 - val_accuracy: 0.8720 - val_loss: 0.3743\n",
      "Epoch 93/100\n",
      "\u001b[1m852/852\u001b[0m \u001b[32m━━━━━━━━━━━━━━━━━━━━\u001b[0m\u001b[37m\u001b[0m \u001b[1m1s\u001b[0m 972us/step - accuracy: 0.8997 - loss: 0.2709 - val_accuracy: 0.8720 - val_loss: 0.3747\n",
      "Epoch 94/100\n",
      "\u001b[1m852/852\u001b[0m \u001b[32m━━━━━━━━━━━━━━━━━━━━\u001b[0m\u001b[37m\u001b[0m \u001b[1m1s\u001b[0m 1ms/step - accuracy: 0.8998 - loss: 0.2706 - val_accuracy: 0.8718 - val_loss: 0.3749\n",
      "Epoch 95/100\n",
      "\u001b[1m852/852\u001b[0m \u001b[32m━━━━━━━━━━━━━━━━━━━━\u001b[0m\u001b[37m\u001b[0m \u001b[1m1s\u001b[0m 946us/step - accuracy: 0.9001 - loss: 0.2704 - val_accuracy: 0.8718 - val_loss: 0.3757\n",
      "Epoch 96/100\n",
      "\u001b[1m852/852\u001b[0m \u001b[32m━━━━━━━━━━━━━━━━━━━━\u001b[0m\u001b[37m\u001b[0m \u001b[1m1s\u001b[0m 989us/step - accuracy: 0.8999 - loss: 0.2702 - val_accuracy: 0.8719 - val_loss: 0.3756\n",
      "Epoch 97/100\n",
      "\u001b[1m852/852\u001b[0m \u001b[32m━━━━━━━━━━━━━━━━━━━━\u001b[0m\u001b[37m\u001b[0m \u001b[1m1s\u001b[0m 993us/step - accuracy: 0.9004 - loss: 0.2697 - val_accuracy: 0.8716 - val_loss: 0.3762\n",
      "Epoch 98/100\n",
      "\u001b[1m852/852\u001b[0m \u001b[32m━━━━━━━━━━━━━━━━━━━━\u001b[0m\u001b[37m\u001b[0m \u001b[1m1s\u001b[0m 930us/step - accuracy: 0.9004 - loss: 0.2695 - val_accuracy: 0.8713 - val_loss: 0.3767\n",
      "Epoch 99/100\n",
      "\u001b[1m852/852\u001b[0m \u001b[32m━━━━━━━━━━━━━━━━━━━━\u001b[0m\u001b[37m\u001b[0m \u001b[1m1s\u001b[0m 988us/step - accuracy: 0.9010 - loss: 0.2691 - val_accuracy: 0.8713 - val_loss: 0.3780\n",
      "Epoch 100/100\n",
      "\u001b[1m852/852\u001b[0m \u001b[32m━━━━━━━━━━━━━━━━━━━━\u001b[0m\u001b[37m\u001b[0m \u001b[1m1s\u001b[0m 1ms/step - accuracy: 0.9011 - loss: 0.2694 - val_accuracy: 0.8710 - val_loss: 0.3772\n"
     ]
    }
   ],
   "source": [
    "from sklearn.preprocessing import LabelEncoder\n",
    "\n",
    "history_list = []\n",
    "trained_mlp = []\n",
    "history = []\n",
    "\n",
    "mice_eeg = np.array(mice_eeg)\n",
    "\n",
    "\n",
    "for i, (train_index, test_index) in enumerate(kf.split(input_data)):\n",
    "    scaler = StandardScaler()\n",
    "    # We need to create a new model everytime otherwise fit will continue previous training\n",
    "    mlp = create_model()\n",
    "    \n",
    "    history = mlp.fit(\n",
    "        x=scaler.fit_transform(input_data[train_index]), y=output_data[train_index],\n",
    "        validation_data=(scaler.transform(input_data[test_index]), output_data[test_index]),\n",
    "        epochs=100\n",
    "    )\n",
    "\n",
    "    history_list.append(history)\n",
    "    trained_mlp.append(mlp)\n"
   ]
  },
  {
   "cell_type": "markdown",
   "id": "bb21f8c0a8dd3ac",
   "metadata": {
    "id": "bb21f8c0a8dd3ac"
   },
   "source": [
    "## Plotting the training history"
   ]
  },
  {
   "cell_type": "code",
   "execution_count": 6,
   "id": "ca0b0122f438ec33",
   "metadata": {
    "ExecuteTime": {
     "end_time": "2024-04-21T15:56:24.856384Z",
     "start_time": "2024-04-21T15:56:24.687782Z"
    },
    "colab": {
     "base_uri": "https://localhost:8080/",
     "height": 449
    },
    "id": "ca0b0122f438ec33",
    "outputId": "f5fcfe4f-96cb-4f58-e887-39a27d6053c8"
   },
   "outputs": [
    {
     "data": {
      "image/png": "[encoded data removed]",
      "text/plain": [
       "<Figure size 640x480 with 1 Axes>"
      ]
     },
     "metadata": {},
     "output_type": "display_data"
    }
   ],
   "source": [
    "train_losses = np.array([history.history['loss'] for history in history_list])\n",
    "val_losses = np.array([history.history['val_loss'] for history in history_list])\n",
    "\n",
    "# Calculate mean and standard deviation for training and validation losses\n",
    "mean_train_loss = np.mean(train_losses, axis=0)\n",
    "std_train_loss = np.std(train_losses, axis=0)\n",
    "mean_val_loss = np.mean(val_losses, axis=0)\n",
    "std_val_loss = np.std(val_losses, axis=0)\n",
    "\n",
    "# Plot mean and standard deviation for training loss\n",
    "pl.plot(mean_train_loss, label='Training Loss (Mean)')\n",
    "pl.fill_between(range(len(mean_train_loss)), mean_train_loss - std_train_loss, mean_train_loss + std_train_loss, alpha=0.3, label='Training Loss (Std)')\n",
    "\n",
    "# Plot mean and standard deviation for validation loss\n",
    "pl.plot(mean_val_loss, label='Validation Loss (Mean)')\n",
    "pl.fill_between(range(len(mean_val_loss)), mean_val_loss - std_val_loss, mean_val_loss + std_val_loss, alpha=0.3, label='Validation Loss (Std)')\n",
    "\n",
    "# Add labels and legend\n",
    "pl.xlabel('Epochs')\n",
    "pl.ylabel('Loss')\n",
    "pl.legend()\n",
    "\n",
    "# Display the plot\n",
    "pl.show()"
   ]
  },
  {
   "cell_type": "code",
   "execution_count": 7,
   "id": "a1e114a6d765ae38",
   "metadata": {
    "ExecuteTime": {
     "end_time": "2024-04-21T15:56:26.944282Z",
     "start_time": "2024-04-21T15:56:24.857882Z"
    },
    "colab": {
     "base_uri": "https://localhost:8080/",
     "height": 1000
    },
    "id": "a1e114a6d765ae38",
    "outputId": "61ae2e4a-3851-4fe2-f3dd-d69f7749fd9d"
   },
   "outputs": [
    {
     "name": "stdout",
     "output_type": "stream",
     "text": [
      "\u001b[1m426/426\u001b[0m \u001b[32m━━━━━━━━━━━━━━━━━━━━\u001b[0m\u001b[37m\u001b[0m \u001b[1m0s\u001b[0m 573us/step\n"
     ]
    },
    {
     "data": {
      "image/png": "[encoded data removed]",
      "text/plain": [
       "<Figure size 800x600 with 1 Axes>"
      ]
     },
     "metadata": {},
     "output_type": "display_data"
    },
    {
     "name": "stdout",
     "output_type": "stream",
     "text": [
      "F1 Score - Fold 1: 0.7954942444509099\n",
      "\u001b[1m426/426\u001b[0m \u001b[32m━━━━━━━━━━━━━━━━━━━━\u001b[0m\u001b[37m\u001b[0m \u001b[1m0s\u001b[0m 582us/step\n"
     ]
    },
    {
     "data": {
      "image/png": "[encoded data removed]",
      "text/plain": [
       "<Figure size 800x600 with 1 Axes>"
      ]
     },
     "metadata": {},
     "output_type": "display_data"
    },
    {
     "name": "stdout",
     "output_type": "stream",
     "text": [
      "F1 Score - Fold 2: 0.8223322635925401\n",
      "\u001b[1m426/426\u001b[0m \u001b[32m━━━━━━━━━━━━━━━━━━━━\u001b[0m\u001b[37m\u001b[0m \u001b[1m0s\u001b[0m 558us/step\n"
     ]
    },
    {
     "data": {
      "image/png": "[encoded data removed]",
      "text/plain": [
       "<Figure size 800x600 with 1 Axes>"
      ]
     },
     "metadata": {},
     "output_type": "display_data"
    },
    {
     "name": "stdout",
     "output_type": "stream",
     "text": [
      "F1 Score - Fold 3: 0.7897703434979545\n"
     ]
    },
    {
     "data": {
      "image/png": "[encoded data removed]",
      "text/plain": [
       "<Figure size 800x600 with 1 Axes>"
      ]
     },
     "metadata": {},
     "output_type": "display_data"
    },
    {
     "name": "stdout",
     "output_type": "stream",
     "text": [
      "Mean F1 Score across all folds: 0.8025322838471348\n"
     ]
    }
   ],
   "source": [
    "from matplotlib import pyplot as plt\n",
    "from sklearn.metrics import confusion_matrix, f1_score\n",
    "import seaborn as sns\n",
    "\n",
    "\n",
    "def plot_confusion_matrix(confusion_matrix, title, class_labels):\n",
    "    # Plot confusion matrix\n",
    "    fig, ax = plt.subplots(figsize=(8, 6))\n",
    "    sns.heatmap(confusion_matrix.astype(int), annot=False, fmt='', cmap=\"Blues\", cbar=False,\n",
    "                xticklabels=class_labels, yticklabels=class_labels, ax=ax)\n",
    "\n",
    "    # Add numerical values to the heatmap\n",
    "    for i in range(confusion_matrix.shape[0]):\n",
    "        for j in range(confusion_matrix.shape[1]):\n",
    "            x = j + 0.5  # Shift x-coordinate to center the text\n",
    "            y = i + 0.5  # Shift y-coordinate to center the text\n",
    "            ax.text(x, y, str(confusion_matrix[i, j]), ha=\"center\", va=\"center\", color=\"black\")\n",
    "\n",
    "    ax.set_title(title)\n",
    "    ax.set_xlabel('Predicted')\n",
    "    ax.set_ylabel('True')\n",
    "    plt.show()\n",
    "\n",
    "class_labels = [\"REM\", \"Non-REM\", \"Wake\"]\n",
    "\n",
    "f1_scores = []\n",
    "mean_confusion_matrix = np.zeros((3, 3))\n",
    "\n",
    "for i, (train_index, test_index) in enumerate(kf.split(input_data)):\n",
    "    # Evaluate the trained model on the test fold\n",
    "    predictions = trained_mlp[i].predict(scaler.transform(input_data[test_index]))\n",
    "    true_labels = output_data[test_index]\n",
    "\n",
    "    # Compute confusion matrix\n",
    "    cm = confusion_matrix(true_labels, predictions.argmax(axis=1))\n",
    "    mean_confusion_matrix += cm\n",
    "\n",
    "    # Compute confusion matrix and plot\n",
    "    plot_confusion_matrix(cm, f'Confusion Matrix - Fold {i + 1}', class_labels)\n",
    "\n",
    "    # Compute F1 score\n",
    "    f1 = f1_score(true_labels, predictions.argmax(axis=1), average='macro')\n",
    "    f1_scores.append(f1)\n",
    "    print(f\"F1 Score - Fold {i + 1}: {f1}\")\n",
    "\n",
    "# Plot mean confusion matrix\n",
    "plot_confusion_matrix(mean_confusion_matrix.astype(int), 'Global confusion matrix', class_labels)\n",
    "\n",
    "# Calculate and display the mean F1 score across all folds\n",
    "mean_f1_score = np.mean(f1_scores)\n",
    "print(f\"Mean F1 Score across all folds: {mean_f1_score}\")"
   ]
  },
  {
   "cell_type": "markdown",
   "id": "T_teIKwamUFw",
   "metadata": {
    "id": "T_teIKwamUFw"
   },
   "source": [
    "Get the model with the best f-score\n",
    "for"
   ]
  },
  {
   "cell_type": "code",
   "execution_count": 8,
   "id": "anV4VmupmTsY",
   "metadata": {
    "ExecuteTime": {
     "end_time": "2024-04-21T15:56:26.959857Z",
     "start_time": "2024-04-21T15:56:26.946783Z"
    },
    "colab": {
     "base_uri": "https://localhost:8080/"
    },
    "id": "anV4VmupmTsY",
    "outputId": "5d79c808-d600-4525-f6cf-78de116d42bc"
   },
   "outputs": [
    {
     "name": "stdout",
     "output_type": "stream",
     "text": [
      "Best F1 Score: 0.8223322635925401\n"
     ]
    }
   ],
   "source": [
    "# Find the model with the highest F1 score\n",
    "best_score = -float('inf')\n",
    "index = 0\n",
    "i = 0\n",
    "\n",
    "for score in f1_scores:\n",
    "\n",
    "    if score > best_score:\n",
    "        best_score = score\n",
    "        index = i\n",
    "\n",
    "    i += 1\n",
    "\n",
    "best_model = f1_scores[index]\n",
    "best_mlp = trained_mlp[index]\n",
    "\n",
    "print(f\"Best F1 Score: {best_score}\")"
   ]
  },
  {
   "cell_type": "code",
   "execution_count": 9,
   "id": "pYLwp8ujfauT",
   "metadata": {
    "ExecuteTime": {
     "end_time": "2024-04-21T15:56:28.266104Z",
     "start_time": "2024-04-21T15:56:26.961362Z"
    },
    "id": "pYLwp8ujfauT"
   },
   "outputs": [],
   "source": [
    "test = pd.read_csv('./data/EEG_mouse_data_test.csv')\n",
    "test_smol = test.iloc[:,0:25]\n",
    "test_scaled = scaler.fit_transform(test_smol)"
   ]
  },
  {
   "cell_type": "code",
   "execution_count": 10,
   "id": "gUsvUzHIkhdE",
   "metadata": {
    "ExecuteTime": {
     "end_time": "2024-04-21T15:56:30.383635Z",
     "start_time": "2024-04-21T15:56:28.267109Z"
    },
    "colab": {
     "base_uri": "https://localhost:8080/"
    },
    "id": "gUsvUzHIkhdE",
    "outputId": "8ca26822-7196-4d39-e1ce-4b64d3f5c08b"
   },
   "outputs": [
    {
     "name": "stdout",
     "output_type": "stream",
     "text": [
      "\u001b[1m2504/2504\u001b[0m \u001b[32m━━━━━━━━━━━━━━━━━━━━\u001b[0m\u001b[37m\u001b[0m \u001b[1m1s\u001b[0m 561us/step\n"
     ]
    }
   ],
   "source": [
    "y_pred = best_mlp.predict(test_scaled)"
   ]
  },
  {
   "cell_type": "code",
   "execution_count": 11,
   "id": "281a80e6fc58d5a6",
   "metadata": {
    "ExecuteTime": {
     "end_time": "2024-04-21T15:56:30.507593Z",
     "start_time": "2024-04-21T15:56:30.386578Z"
    },
    "colab": {
     "base_uri": "https://localhost:8080/",
     "height": 462
    },
    "collapsed": false,
    "id": "281a80e6fc58d5a6",
    "jupyter": {
     "outputs_hidden": false
    },
    "outputId": "7528c805-49b1-4ec0-dc16-5eb117d900df"
   },
   "outputs": [
    {
     "name": "stdout",
     "output_type": "stream",
     "text": [
      "REM: 2995\n",
      "Non-REM: 27263\n",
      "Wake: 49851\n"
     ]
    },
    {
     "data": {
      "image/png": "[encoded data removed]",
      "text/plain": [
       "<Figure size 800x400 with 1 Axes>"
      ]
     },
     "metadata": {},
     "output_type": "display_data"
    }
   ],
   "source": [
    "# Convert logits to probabilities\n",
    "import numpy as np\n",
    "y_pred_probs = np.exp(y_pred) / np.sum(np.exp(y_pred), axis=1, keepdims=True)\n",
    "\n",
    "# Get predicted classes\n",
    "y_pred_classes = np.argmax(y_pred_probs, axis=1)\n",
    "\n",
    "# Count occurrences of each class\n",
    "unique_counts = np.bincount(y_pred_classes)\n",
    "\n",
    "# Compute class proportions\n",
    "total_samples = len(y_pred_classes)\n",
    "class_proportions = unique_counts / total_samples\n",
    "\n",
    "# Map numerical values to class labels\n",
    "class_labels = [\"REM\", \"Non-REM\", \"Wake\"]\n",
    "\n",
    "# Visualisation\n",
    "import matplotlib.pyplot as plt\n",
    "\n",
    "for i, count in enumerate(unique_counts):\n",
    "    print(f\"{class_labels[i]}: {count}\")\n",
    "\n",
    "plt.figure(figsize=(8, 4))\n",
    "plt.bar(range(len(class_proportions)), class_proportions, tick_label=class_labels, color='green', alpha=0.6)\n",
    "plt.xlabel('Class')\n",
    "plt.ylabel('Proportion')\n",
    "plt.title('Predicted Class Proportions')\n",
    "plt.show()"
   ]
  },
  {
   "cell_type": "markdown",
   "id": "41ee8bddf4313c4f",
   "metadata": {},
   "source": [
    "## Output our prediction in a npy file"
   ]
  },
  {
   "cell_type": "code",
   "execution_count": 12,
   "id": "95b3b0e4fefb468d",
   "metadata": {
    "ExecuteTime": {
     "end_time": "2024-04-21T15:56:30.523109Z",
     "start_time": "2024-04-21T15:56:30.509093Z"
    }
   },
   "outputs": [],
   "source": [
    "output_array = []  \n",
    "for value in y_pred_classes:\n",
    "    if value == 2:\n",
    "        output_array.append('w')\n",
    "    elif value == 1:\n",
    "        output_array.append('n')\n",
    "    elif value == 0:\n",
    "        output_array.append('r')\n",
    "\n",
    "with open('test_pred.npy', 'wb') as f:\n",
    "    np.save(f, output_array)"
   ]
  },
  {
   "cell_type": "code",
   "execution_count": null,
   "id": "d705dcf62500cedf",
   "metadata": {},
   "outputs": [],
   "source": []
  }
 ],
 "metadata": {
  "accelerator": "TPU",
  "colab": {
   "gpuType": "V28",
   "provenance": []
  },
  "kernelspec": {
   "display_name": "Python 3 (ipykernel)",
   "language": "python",
   "name": "python3"
  },
  "language_info": {
   "codemirror_mode": {
    "name": "ipython",
    "version": 3
   },
   "file_extension": ".py",
   "mimetype": "text/x-python",
   "name": "python",
   "nbconvert_exporter": "python",
   "pygments_lexer": "ipython3",
   "version": "3.10.11"
  }
 },
 "nbformat": 4,
 "nbformat_minor": 5
}
